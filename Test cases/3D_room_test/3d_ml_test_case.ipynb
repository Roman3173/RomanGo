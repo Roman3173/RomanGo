{
  "nbformat": 4,
  "nbformat_minor": 0,
  "metadata": {
    "colab": {
      "provenance": [],
      "authorship_tag": "ABX9TyNdHt5l19idHpbNoKRk86//",
      "include_colab_link": true
    },
    "kernelspec": {
      "name": "python3",
      "display_name": "Python 3"
    },
    "language_info": {
      "name": "python"
    }
  },
  "cells": [
    {
      "cell_type": "markdown",
      "metadata": {
        "id": "view-in-github",
        "colab_type": "text"
      },
      "source": [
        "<a href=\"https://colab.research.google.com/github/Roman3173/RomanGo/blob/main/Test%20cases/3D_room_test/3d_ml_test_case.ipynb\" target=\"_parent\"><img src=\"https://colab.research.google.com/assets/colab-badge.svg\" alt=\"Open In Colab\"/></a>"
      ]
    },
    {
      "cell_type": "markdown",
      "source": [
        "# Подготовка данных"
      ],
      "metadata": {
        "id": "PnPycDc4nyQe"
      }
    },
    {
      "cell_type": "code",
      "execution_count": 1,
      "metadata": {
        "id": "hQLE3J2NTIIK"
      },
      "outputs": [],
      "source": [
        "import cv2\n",
        "import numpy as np\n",
        "import json"
      ]
    },
    {
      "cell_type": "code",
      "source": [
        "# image_1024_aligned_rgb.png\n",
        "!gdown 1MEa-_oowpOuP2wa7zEmSM7uYxcgNAXxt"
      ],
      "metadata": {
        "colab": {
          "base_uri": "https://localhost:8080/"
        },
        "id": "9uErBdpvTW40",
        "outputId": "7e67cfb6-3a3c-49be-b1ca-ab39740ea60e"
      },
      "execution_count": 2,
      "outputs": [
        {
          "output_type": "stream",
          "name": "stdout",
          "text": [
            "Downloading...\n",
            "From: https://drive.google.com/uc?id=1MEa-_oowpOuP2wa7zEmSM7uYxcgNAXxt\n",
            "To: /content/image_1024_aligned_rgb.png\n",
            "\r  0% 0.00/571k [00:00<?, ?B/s]\r100% 571k/571k [00:00<00:00, 121MB/s]\n"
          ]
        }
      ]
    },
    {
      "cell_type": "code",
      "source": [
        "# test_object_lu.json\n",
        "!gdown 15qyneDxjA30lOdrZOHX80FrQVWSKIpnJ"
      ],
      "metadata": {
        "colab": {
          "base_uri": "https://localhost:8080/"
        },
        "id": "a636KuGJTYYa",
        "outputId": "b92fead6-7637-48b1-ec86-0f3abf70d6c0"
      },
      "execution_count": 3,
      "outputs": [
        {
          "output_type": "stream",
          "name": "stdout",
          "text": [
            "Downloading...\n",
            "From: https://drive.google.com/uc?id=15qyneDxjA30lOdrZOHX80FrQVWSKIpnJ\n",
            "To: /content/test_object_lu.json\n",
            "\r  0% 0.00/194 [00:00<?, ?B/s]\r100% 194/194 [00:00<00:00, 641kB/s]\n"
          ]
        }
      ]
    },
    {
      "cell_type": "code",
      "source": [
        "# floor_plan_test.jpg\n",
        "!gdown 1vlmfA20KIyGlHmhIoSzus4NFIAuoRFb9"
      ],
      "metadata": {
        "colab": {
          "base_uri": "https://localhost:8080/"
        },
        "id": "WCEcyyXCTsbj",
        "outputId": "66312fe1-8d87-4637-8738-b1337e5220f7"
      },
      "execution_count": 4,
      "outputs": [
        {
          "output_type": "stream",
          "name": "stdout",
          "text": [
            "Downloading...\n",
            "From: https://drive.google.com/uc?id=1vlmfA20KIyGlHmhIoSzus4NFIAuoRFb9\n",
            "To: /content/floor_plan_test.jpg\n",
            "\r  0% 0.00/17.8k [00:00<?, ?B/s]\r100% 17.8k/17.8k [00:00<00:00, 43.7MB/s]\n"
          ]
        }
      ]
    },
    {
      "cell_type": "code",
      "source": [
        "# v_corners.npy\n",
        "!gdown 18cKH92wswG-_Hk-uZYqJmYeem6GMOafb"
      ],
      "metadata": {
        "colab": {
          "base_uri": "https://localhost:8080/"
        },
        "id": "PYcGJJ6kTcJl",
        "outputId": "21932920-ce38-4a7b-8aec-d7853a9ee666"
      },
      "execution_count": 5,
      "outputs": [
        {
          "output_type": "stream",
          "name": "stdout",
          "text": [
            "Downloading...\n",
            "From: https://drive.google.com/uc?id=18cKH92wswG-_Hk-uZYqJmYeem6GMOafb\n",
            "To: /content/v_corners.npy\n",
            "\r  0% 0.00/224 [00:00<?, ?B/s]\r100% 224/224 [00:00<00:00, 1.12MB/s]\n"
          ]
        }
      ]
    },
    {
      "cell_type": "code",
      "source": [
        "# h_corners.npy\n",
        "!gdown 1VPSbwA8Y8roX7-nMnBuwtKRCGihRLhAY"
      ],
      "metadata": {
        "colab": {
          "base_uri": "https://localhost:8080/"
        },
        "id": "Zmbwl3DkTdhK",
        "outputId": "bbf35481-2e03-4f63-9ab2-bee343f4c7c3"
      },
      "execution_count": 6,
      "outputs": [
        {
          "output_type": "stream",
          "name": "stdout",
          "text": [
            "Downloading...\n",
            "From: https://drive.google.com/uc?id=1VPSbwA8Y8roX7-nMnBuwtKRCGihRLhAY\n",
            "To: /content/h_corners.npy\n",
            "\r  0% 0.00/8.32k [00:00<?, ?B/s]\r100% 8.32k/8.32k [00:00<00:00, 22.9MB/s]\n"
          ]
        }
      ]
    },
    {
      "cell_type": "code",
      "source": [
        "# /content/depth_map.npy\n",
        "!gdown 1x6YD2uk-ivS9uhosIkY75-k2hDVIhte6"
      ],
      "metadata": {
        "colab": {
          "base_uri": "https://localhost:8080/"
        },
        "id": "ntfDgoXITeth",
        "outputId": "678b1b2e-0428-42bf-90df-9c6ba4f14571"
      },
      "execution_count": 7,
      "outputs": [
        {
          "output_type": "stream",
          "name": "stdout",
          "text": [
            "Downloading...\n",
            "From: https://drive.google.com/uc?id=1x6YD2uk-ivS9uhosIkY75-k2hDVIhte6\n",
            "To: /content/depth_map.npy\n",
            "\r  0% 0.00/2.10M [00:00<?, ?B/s]\r100% 2.10M/2.10M [00:00<00:00, 24.0MB/s]\n"
          ]
        }
      ]
    },
    {
      "cell_type": "code",
      "source": [
        "panorama_image_path = \"/content/image_1024_aligned_rgb.png\"\n",
        "panorama_image = cv2.imread(panorama_image_path, cv2.IMREAD_COLOR)"
      ],
      "metadata": {
        "id": "Eio3Ce_sTkCc"
      },
      "execution_count": 8,
      "outputs": []
    },
    {
      "cell_type": "code",
      "source": [
        "floor_plan_path = \"/content/floor_plan_test.jpg\"\n",
        "floor_plan = cv2.imread(panorama_image_path)"
      ],
      "metadata": {
        "id": "slNenTQDTxzB"
      },
      "execution_count": 9,
      "outputs": []
    },
    {
      "cell_type": "code",
      "source": [
        "json_path = \"/content/test_object_lu.json\"\n",
        "with open(json_path, 'r') as json_file:\n",
        "    walls_data = json.load(json_file)\n",
        "# walls_data"
      ],
      "metadata": {
        "id": "cPc9JM_jTzb1"
      },
      "execution_count": 10,
      "outputs": []
    },
    {
      "cell_type": "code",
      "source": [
        "v_corners_path = \"/content/v_corners.npy\"\n",
        "vertical_corners = np.load(v_corners_path)\n",
        "# vertical_corners"
      ],
      "metadata": {
        "id": "HTpsFgGMT1Td"
      },
      "execution_count": 11,
      "outputs": []
    },
    {
      "cell_type": "code",
      "source": [
        "h_corners_path = \"/content/h_corners.npy\"\n",
        "horizontal_corners = np.load(h_corners_path)\n",
        "# horizontal_corners"
      ],
      "metadata": {
        "id": "OngpDlTKT3Sc"
      },
      "execution_count": 12,
      "outputs": []
    },
    {
      "cell_type": "code",
      "source": [
        "depth_map_path = \"/content/depth_map.npy\"\n",
        "depth_map = np.load(depth_map_path)\n",
        "#depth_map"
      ],
      "metadata": {
        "id": "780gai25T5o8"
      },
      "execution_count": 13,
      "outputs": []
    },
    {
      "cell_type": "code",
      "source": [
        "vertical_corners = np.around(vertical_corners, decimals = 0).astype(int)"
      ],
      "metadata": {
        "id": "U-4nH2krT_CA"
      },
      "execution_count": 14,
      "outputs": []
    },
    {
      "cell_type": "code",
      "source": [
        "horizontal_corners = np.around(horizontal_corners, decimals = 0).astype(int)"
      ],
      "metadata": {
        "id": "3THRu3eWUIIW"
      },
      "execution_count": 15,
      "outputs": []
    },
    {
      "cell_type": "code",
      "source": [],
      "metadata": {
        "id": "DJS1zNhNUJx-"
      },
      "execution_count": 15,
      "outputs": []
    },
    {
      "cell_type": "markdown",
      "source": [
        "# 1 стена"
      ],
      "metadata": {
        "id": "vA6NcSYenVcH"
      }
    },
    {
      "cell_type": "code",
      "source": [
        "panorama_image_path = \"/content/image_1024_aligned_rgb.png\"\n",
        "result = cv2.imread(panorama_image_path, cv2.IMREAD_COLOR)\n",
        "x_min = vertical_corners[0][0]\n",
        "x_max = vertical_corners[2][0]\n",
        "y1_max = 512\n",
        "y2_max = 0\n",
        "for i in range(x_min, x_max + 1):\n",
        "    y1_max = min(y1_max, horizontal_corners[0][i])\n",
        "    y2_max = max(y2_max, horizontal_corners[1][i])"
      ],
      "metadata": {
        "id": "yCg_aQETnXWn"
      },
      "execution_count": 16,
      "outputs": []
    },
    {
      "cell_type": "code",
      "source": [
        "width = 2\n",
        "for j in range(x_min, x_max + 1, width):\n",
        "    x1 = j\n",
        "    x2 = j + width - 1\n",
        "\n",
        "    # от верхней грани до высоты камеры\n",
        "    yy = 255\n",
        "    point1 = [x1, horizontal_corners[0][x1]]\n",
        "    point2 = [x2, horizontal_corners[0][x2]]\n",
        "    point3 = [x2, yy]\n",
        "    point4 = [x1, yy]\n",
        "\n",
        "    height = yy - y1_max + 1\n",
        "    src_points = np.array([point1, point2, point3, point4], dtype=np.float32)\n",
        "    dst_points = np.array([[0, 0], [width - 1, 0], [width - 1, height - 1], [0, height - 1]], dtype=np.float32)\n",
        "\n",
        "    # матрица преобразования\n",
        "    perspective_matrix = cv2.getPerspectiveTransform(src_points, dst_points)\n",
        "\n",
        "    # преобразование\n",
        "    result_rectangular = cv2.warpPerspective(result, perspective_matrix, (width, height))\n",
        "\n",
        "    for i in range(len(result_rectangular)):\n",
        "        for j in range(width):\n",
        "            result[i + y1_max][x1 + j] = result_rectangular[i][j]\n",
        "\n",
        "\n",
        "\n",
        "    # от высоты камеры до нижней грани\n",
        "    yy = 256\n",
        "    point1 = [x1, yy]\n",
        "    point2 = [x2, yy]\n",
        "    point3 = [x2, horizontal_corners[1][x2]]\n",
        "    point4 = [x1, horizontal_corners[1][x1]]\n",
        "\n",
        "    height = y2_max - yy + 1\n",
        "    src_points = np.array([point1, point2, point3, point4], dtype=np.float32)\n",
        "    dst_points = np.array([[0, 0], [width - 1, 0], [width - 1, height - 1], [0, height - 1]], dtype=np.float32)\n",
        "\n",
        "    # Получите матрицу преобразования\n",
        "    perspective_matrix = cv2.getPerspectiveTransform(src_points, dst_points)\n",
        "\n",
        "    # Примените преобразование\n",
        "    result_rectangular = cv2.warpPerspective(result, perspective_matrix, (width, height))\n",
        "\n",
        "    for i in range(len(result_rectangular)):\n",
        "        for k in range(width):\n",
        "            result[i + yy][x1 + k] = result_rectangular[i][k]"
      ],
      "metadata": {
        "id": "Db1VKyBAnkmL"
      },
      "execution_count": 17,
      "outputs": []
    },
    {
      "cell_type": "code",
      "source": [
        "# обрезаем стену по граням.\n",
        "result = result[y1_max:y2_max, x_min:x_max]\n",
        "#  # сохранить промежуточный результат\n",
        "# cv2.imwrite(\"/content/1_wall.jpg\", result)"
      ],
      "metadata": {
        "id": "WDVORAecolfe"
      },
      "execution_count": 18,
      "outputs": []
    },
    {
      "cell_type": "code",
      "source": [
        "depth_1_wall = depth_map[255][31:363]\n",
        "center_1_wall = 255-30\n",
        "mera = (depth_1_wall[center_1_wall + 3] ** 2 - depth_1_wall[center_1_wall] ** 2) ** 0.5"
      ],
      "metadata": {
        "id": "ln5HIc72ouDf"
      },
      "execution_count": 19,
      "outputs": []
    },
    {
      "cell_type": "code",
      "source": [
        "ww =   ((depth_1_wall[0] **2 - depth_1_wall[center_1_wall]**2) ** 0.5\n",
        "      + (depth_1_wall[-1]**2 - depth_1_wall[center_1_wall]**2) ** 0.5)\n",
        "ww / 6.04"
      ],
      "metadata": {
        "colab": {
          "base_uri": "https://localhost:8080/"
        },
        "id": "axnvSHyvwAzK",
        "outputId": "f346bf8e-259f-4e09-e0fd-ef26cd6a52f2"
      },
      "execution_count": 20,
      "outputs": [
        {
          "output_type": "execute_result",
          "data": {
            "text/plain": [
              "1.099602512686297"
            ]
          },
          "metadata": {},
          "execution_count": 20
        }
      ]
    },
    {
      "cell_type": "code",
      "source": [
        "total_size = 0 + 4\n",
        "ind_size_higher = [[center_1_wall, 4]]\n",
        "ind = center_1_wall + 3\n",
        "prev = (depth_1_wall[center_1_wall + 3] ** 2 - depth_1_wall[center_1_wall] ** 2) ** 0.5\n",
        "while ind + 4 < len(depth_1_wall):\n",
        "    cur = (depth_1_wall[ind + 4] ** 2 - depth_1_wall[center_1_wall] ** 2) ** 0.5\n",
        "    next_size = np.around((cur - prev) / mera * 4, decimals = 0).astype(int)\n",
        "    ind_size_higher.append([ind, next_size])\n",
        "    total_size += next_size\n",
        "    ind += 4\n",
        "    prev = cur\n",
        "if ind != depth_1_wall.shape[0] - 1:\n",
        "    ind -= 4\n",
        "    total_size -= ind_size_higher[-1][1]\n",
        "    ind_size_higher.pop()\n",
        "    step = depth_1_wall.shape[0] - 1 - ind\n",
        "    cur =  ((depth_1_wall[ind + step] ** 2 - depth_1_wall[center_1_wall] ** 2) ** 0.5)\n",
        "    prev = ((depth_1_wall[ind] ** 2 - depth_1_wall[center_1_wall] ** 2) ** 0.5)\n",
        "    next_size = np.around((cur - prev) / mera * 4, decimals = 0).astype(int)\n",
        "    ind_size_higher.append([ind, next_size])\n",
        "    total_size += next_size\n",
        "    ind += step\n",
        "ind_size_higher.append([ind, 0])\n",
        "high_size = total_size\n",
        "#ind_size_higher"
      ],
      "metadata": {
        "id": "Xyhvas0bpJC0"
      },
      "execution_count": 21,
      "outputs": []
    },
    {
      "cell_type": "code",
      "source": [
        "total_size = 4\n",
        "ind = center_1_wall - 4\n",
        "ind_size_lower = [[ind, 4]]\n",
        "ind -= 4\n",
        "prev = (depth_1_wall[center_1_wall + 3] ** 2 - depth_1_wall[center_1_wall] ** 2) ** 0.5\n",
        "while ind >= 0:\n",
        "    cur = ((depth_1_wall[ind] ** 2 - depth_1_wall[center_1_wall] ** 2) ** 0.5)\n",
        "    next_size = np.around((cur - prev) / mera * 4, decimals = 0).astype(int)\n",
        "    ind_size_lower.insert(0, [ind, next_size])\n",
        "    total_size += next_size\n",
        "    ind -= 4\n",
        "    prev = cur\n",
        "if ind != 0:\n",
        "    ind += 4 * 2\n",
        "    total_size -= ind_size_lower[0][1]\n",
        "    ind_size_lower.pop(0)\n",
        "    step = ind\n",
        "    prev = ((depth_1_wall[ind] ** 2 - depth_1_wall[center_1_wall] ** 2) ** 0.5)\n",
        "    cur = ((depth_1_wall[0] ** 2 - depth_1_wall[center_1_wall] ** 2) ** 0.5)\n",
        "    next_size = np.around((cur - prev)/ mera * 4, decimals = 0).astype(int)\n",
        "    ind_size_lower.insert(0, [0, next_size])\n",
        "    total_size += next_size\n",
        "    ind = 0\n",
        "total_size += high_size\n",
        "#ind_size_lower"
      ],
      "metadata": {
        "id": "SLMdd9FJpN-b"
      },
      "execution_count": 22,
      "outputs": []
    },
    {
      "cell_type": "code",
      "source": [
        "ind_size = ind_size_lower + ind_size_higher\n",
        "new_res = np.zeros((result.shape[0], total_size, result.shape[2]), dtype=np.uint8)\n",
        "#new_res.shape"
      ],
      "metadata": {
        "id": "NRhkMS9JpVN6"
      },
      "execution_count": 23,
      "outputs": []
    },
    {
      "cell_type": "code",
      "source": [
        "height = result.shape[0]\n",
        "xx = 0\n",
        "for j in range(len(ind_size) - 1):\n",
        "    width = ind_size[j + 1][0] - ind_size[j][0]\n",
        "    x1 = ind_size[j][0]\n",
        "    x2 = x1 + width - 1\n",
        "\n",
        "    yy = 255\n",
        "    point1 = [x1, 0]\n",
        "    point2 = [x2, 0]\n",
        "    point3 = [x2, height - 1]\n",
        "    point4 = [x1, height - 1]\n",
        "\n",
        "\n",
        "    src_points = np.array([point1, point2, point3, point4], dtype=np.float32)\n",
        "    dst_points = np.array([[0, 0], [ind_size[j][1] - 1, 0], [ind_size[j][1] - 1, height - 1], [0, height - 1]], dtype=np.float32)\n",
        "\n",
        "    # Получите матрицу преобразования\n",
        "    perspective_matrix = cv2.getPerspectiveTransform(src_points, dst_points)\n",
        "\n",
        "    # Примените преобразование\n",
        "    result_rectangular = cv2.warpPerspective(result, perspective_matrix, (ind_size[j][1], height))\n",
        "\n",
        "    for i in range(len(result_rectangular)):\n",
        "        for k in range(ind_size[j][1]):\n",
        "            new_res[i][xx + k] = result_rectangular[i][k]\n",
        "    xx += ind_size[j][1]"
      ],
      "metadata": {
        "id": "qyavR8-DpcC-"
      },
      "execution_count": 24,
      "outputs": []
    },
    {
      "cell_type": "code",
      "source": [
        "new_width = 602\n",
        "new_height = 250\n",
        "\n",
        "# Сжимаем изображение до нового размера\n",
        "resized_image = cv2.resize(new_res, (new_width, new_height))\n",
        "# получаем итоговое изображение с поправкой на соотношение сторон 6020x2500 мм\n",
        "cv2.imwrite(\"/content/0_proj.jpg\", resized_image)"
      ],
      "metadata": {
        "colab": {
          "base_uri": "https://localhost:8080/"
        },
        "id": "cSD-w346pj3J",
        "outputId": "5b9a0b52-9f7f-43a6-e2ee-9a3ca41031f1"
      },
      "execution_count": 25,
      "outputs": [
        {
          "output_type": "execute_result",
          "data": {
            "text/plain": [
              "True"
            ]
          },
          "metadata": {},
          "execution_count": 25
        }
      ]
    },
    {
      "cell_type": "code",
      "source": [],
      "metadata": {
        "id": "k-9XQ1PRpoIL"
      },
      "execution_count": 25,
      "outputs": []
    },
    {
      "cell_type": "markdown",
      "source": [
        "# 2 стена"
      ],
      "metadata": {
        "id": "jnFeFF2Rp-mS"
      }
    },
    {
      "cell_type": "code",
      "source": [
        "panorama_image_path = \"/content/image_1024_aligned_rgb.png\"\n",
        "result = cv2.imread(panorama_image_path, cv2.IMREAD_COLOR)\n",
        "x_min = vertical_corners[2][0]\n",
        "x_max = vertical_corners[4][0]\n",
        "y1_max = 512\n",
        "y2_max = 0\n",
        "for i in range(x_min, x_max + 1):\n",
        "    y1_max = min(y1_max, horizontal_corners[0][i])\n",
        "    y2_max = max(y2_max, horizontal_corners[1][i])"
      ],
      "metadata": {
        "id": "gl0PHpnhsWs5"
      },
      "execution_count": 26,
      "outputs": []
    },
    {
      "cell_type": "code",
      "source": [
        "width = 2\n",
        "for j in range(x_min, x_max + 1, width):\n",
        "    x1 = j\n",
        "    x2 = j + width - 1\n",
        "\n",
        "    # от верхней грани до высоты камеры\n",
        "    yy = 255\n",
        "    point1 = [x1, horizontal_corners[0][x1]]\n",
        "    point2 = [x2, horizontal_corners[0][x2]]\n",
        "    point3 = [x2, yy]\n",
        "    point4 = [x1, yy]\n",
        "\n",
        "    height = yy - y1_max + 1\n",
        "    src_points = np.array([point1, point2, point3, point4], dtype=np.float32)\n",
        "    dst_points = np.array([[0, 0], [width - 1, 0], [width - 1, height - 1], [0, height - 1]], dtype=np.float32)\n",
        "\n",
        "    # матрица преобразования\n",
        "    perspective_matrix = cv2.getPerspectiveTransform(src_points, dst_points)\n",
        "\n",
        "    # преобразование\n",
        "    result_rectangular = cv2.warpPerspective(result, perspective_matrix, (width, height))\n",
        "\n",
        "    for i in range(len(result_rectangular)):\n",
        "        for j in range(width):\n",
        "            result[i + y1_max][x1 + j] = result_rectangular[i][j]\n",
        "\n",
        "\n",
        "\n",
        "    # от высоты камеры до нижней грани\n",
        "    yy = 256\n",
        "    point1 = [x1, yy]\n",
        "    point2 = [x2, yy]\n",
        "    point3 = [x2, horizontal_corners[1][x2]]\n",
        "    point4 = [x1, horizontal_corners[1][x1]]\n",
        "\n",
        "    height = y2_max - yy + 1\n",
        "    src_points = np.array([point1, point2, point3, point4], dtype=np.float32)\n",
        "    dst_points = np.array([[0, 0], [width - 1, 0], [width - 1, height - 1], [0, height - 1]], dtype=np.float32)\n",
        "\n",
        "    # Получите матрицу преобразования\n",
        "    perspective_matrix = cv2.getPerspectiveTransform(src_points, dst_points)\n",
        "\n",
        "    # Примените преобразование\n",
        "    result_rectangular = cv2.warpPerspective(result, perspective_matrix, (width, height))\n",
        "\n",
        "    for i in range(len(result_rectangular)):\n",
        "        for k in range(width):\n",
        "            result[i + yy][x1 + k] = result_rectangular[i][k]"
      ],
      "metadata": {
        "id": "_cB1YJFLsWs6"
      },
      "execution_count": 27,
      "outputs": []
    },
    {
      "cell_type": "code",
      "source": [
        "result = result[y1_max:y2_max, x_min:x_max]\n",
        "#  # сохранить промежуточный результат\n",
        "# cv2.imwrite(\"/content/2_wall.jpg\", result)"
      ],
      "metadata": {
        "id": "WNY3beS_sWs6"
      },
      "execution_count": 28,
      "outputs": []
    },
    {
      "cell_type": "code",
      "source": [
        "# Нормаль к 2 стене\n",
        "depth_1_wall = depth_map[255][x_min:x_max]\n",
        "depth_1_wall[148:150] - min(depth_1_wall)"
      ],
      "metadata": {
        "colab": {
          "base_uri": "https://localhost:8080/"
        },
        "id": "vHQkReuYCOp6",
        "outputId": "6aa183c4-c637-4b30-c1d2-7184bb7e842d"
      },
      "execution_count": 29,
      "outputs": [
        {
          "output_type": "execute_result",
          "data": {
            "text/plain": [
              "array([0., 0.], dtype=float32)"
            ]
          },
          "metadata": {},
          "execution_count": 29
        }
      ]
    },
    {
      "cell_type": "code",
      "source": [
        "center_1_wall = 149\n",
        "mera = (depth_1_wall[center_1_wall + 3] ** 2 - depth_1_wall[center_1_wall] ** 2) ** 0.5"
      ],
      "metadata": {
        "id": "cA0_Mw81sWs7"
      },
      "execution_count": 30,
      "outputs": []
    },
    {
      "cell_type": "code",
      "source": [
        "mera\n",
        "(depth_1_wall[center_1_wall - 4] ** 2 - depth_1_wall[center_1_wall] ** 2) ** 0.5 - mera"
      ],
      "metadata": {
        "colab": {
          "base_uri": "https://localhost:8080/"
        },
        "id": "nYgylQKYDV4L",
        "outputId": "c9fb902a-0a11-42d7-ff7e-28605aff9b70"
      },
      "execution_count": 31,
      "outputs": [
        {
          "output_type": "execute_result",
          "data": {
            "text/plain": [
              "0.0"
            ]
          },
          "metadata": {},
          "execution_count": 31
        }
      ]
    },
    {
      "cell_type": "code",
      "source": [
        "ww =   ((depth_1_wall[0] **2 - depth_1_wall[center_1_wall]**2) ** 0.5\n",
        "      + (depth_1_wall[-1]**2 - depth_1_wall[center_1_wall]**2) ** 0.5)\n",
        "ww / 2.05"
      ],
      "metadata": {
        "colab": {
          "base_uri": "https://localhost:8080/"
        },
        "id": "ai6Mh5BnxJB0",
        "outputId": "16341e2c-0ec0-44e3-d871-d522c13e03e5"
      },
      "execution_count": 32,
      "outputs": [
        {
          "output_type": "execute_result",
          "data": {
            "text/plain": [
              "1.196375528015284"
            ]
          },
          "metadata": {},
          "execution_count": 32
        }
      ]
    },
    {
      "cell_type": "code",
      "source": [
        "wr1 = (depth_1_wall[-1] ** 2 - depth_1_wall[center_1_wall] ** 2) ** 0.5\n",
        "(wr1 / ww * 2.05)"
      ],
      "metadata": {
        "colab": {
          "base_uri": "https://localhost:8080/"
        },
        "id": "_b-yccIv3daF",
        "outputId": "6ef488e5-e413-47d4-d567-a1b449495df7"
      },
      "execution_count": 33,
      "outputs": [
        {
          "output_type": "execute_result",
          "data": {
            "text/plain": [
              "1.1061898785993762"
            ]
          },
          "metadata": {},
          "execution_count": 33
        }
      ]
    },
    {
      "cell_type": "code",
      "source": [
        "x_min = vertical_corners[2][0]\n",
        "x_max = vertical_corners[4][0]\n",
        "depth_1_wall = depth_map[255][x_min:x_max]\n",
        "depth_1_wall[148:150] - min(depth_1_wall)\n",
        "center_1_wall = 149\n",
        "HH = (2 * depth_1_wall[0]**2 + 2 * depth_1_wall[-1]**2 - 4 * depth_1_wall[center_1_wall] ** 2) ** 0.5\n",
        "HH / 2.05"
      ],
      "metadata": {
        "colab": {
          "base_uri": "https://localhost:8080/"
        },
        "id": "ZUNB99parBb1",
        "outputId": "61e1bf7d-1e3d-4f4c-f8b4-ebfaf713f6ec"
      },
      "execution_count": 34,
      "outputs": [
        {
          "output_type": "execute_result",
          "data": {
            "text/plain": [
              "1.200122789218613"
            ]
          },
          "metadata": {},
          "execution_count": 34
        }
      ]
    },
    {
      "cell_type": "code",
      "source": [
        "total_size = 0 + 4\n",
        "ind_size_higher = [[center_1_wall, 4]]\n",
        "ind = center_1_wall + 3\n",
        "prev = (depth_1_wall[center_1_wall + 3] ** 2 - depth_1_wall[center_1_wall] ** 2) ** 0.5\n",
        "while ind + 4 < len(depth_1_wall):\n",
        "    cur = (depth_1_wall[ind + 4] ** 2 - depth_1_wall[center_1_wall] ** 2) ** 0.5\n",
        "    next_size = np.around((cur - prev) / mera * 4, decimals = 0).astype(int)\n",
        "    ind_size_higher.append([ind, next_size])\n",
        "    total_size += next_size\n",
        "    ind += 4\n",
        "    prev = cur\n",
        "if ind != depth_1_wall.shape[0] - 1:\n",
        "    ind -= 4\n",
        "    total_size -= ind_size_higher[-1][1]\n",
        "    ind_size_higher.pop()\n",
        "    step = depth_1_wall.shape[0] - 1 - ind\n",
        "    cur =  ((depth_1_wall[ind + step] ** 2 - depth_1_wall[center_1_wall] ** 2) ** 0.5)\n",
        "    prev = ((depth_1_wall[ind] ** 2 - depth_1_wall[center_1_wall] ** 2) ** 0.5)\n",
        "    next_size = np.around((cur - prev) / mera * 4, decimals = 0).astype(int)\n",
        "    ind_size_higher.append([ind, next_size])\n",
        "    total_size += next_size\n",
        "    ind += step\n",
        "ind_size_higher.append([ind, 0])\n",
        "high_size = total_size\n",
        "#ind_size_higher"
      ],
      "metadata": {
        "id": "-0IATkDAsWs7"
      },
      "execution_count": 35,
      "outputs": []
    },
    {
      "cell_type": "code",
      "source": [
        "total_size = 4\n",
        "ind = center_1_wall - 4\n",
        "ind_size_lower = [[ind, 4]]\n",
        "ind -= 4\n",
        "prev = (depth_1_wall[center_1_wall + 3] ** 2 - depth_1_wall[center_1_wall] ** 2) ** 0.5\n",
        "while ind >= 0:\n",
        "    cur = ((depth_1_wall[ind] ** 2 - depth_1_wall[center_1_wall] ** 2) ** 0.5)\n",
        "    next_size = np.around((cur - prev) / mera * 4, decimals = 0).astype(int)\n",
        "    ind_size_lower.insert(0, [ind, next_size])\n",
        "    total_size += next_size\n",
        "    ind -= 4\n",
        "    prev = cur\n",
        "if ind != 0:\n",
        "    ind += 4 * 2\n",
        "    total_size -= ind_size_lower[0][1]\n",
        "    ind_size_lower.pop(0)\n",
        "    step = ind\n",
        "    prev = ((depth_1_wall[ind] ** 2 - depth_1_wall[center_1_wall] ** 2) ** 0.5)\n",
        "    cur = ((depth_1_wall[0] ** 2 - depth_1_wall[center_1_wall] ** 2) ** 0.5)\n",
        "    next_size = np.around((cur - prev)/ mera * 4, decimals = 0).astype(int)\n",
        "    ind_size_lower.insert(0, [0, next_size])\n",
        "    total_size += next_size\n",
        "    ind = 0\n",
        "total_size += high_size\n",
        "#ind_size_lower"
      ],
      "metadata": {
        "id": "FZgfXLHhsWs7"
      },
      "execution_count": 36,
      "outputs": []
    },
    {
      "cell_type": "code",
      "source": [
        "ind_size = ind_size_lower + ind_size_higher\n",
        "new_res = np.zeros((result.shape[0], total_size, result.shape[2]), dtype=np.uint8)\n",
        "new_res.shape"
      ],
      "metadata": {
        "colab": {
          "base_uri": "https://localhost:8080/"
        },
        "id": "s7DBLt7_sWs7",
        "outputId": "3c56936a-b8b1-41aa-f333-3f1c7a6d5c60"
      },
      "execution_count": 37,
      "outputs": [
        {
          "output_type": "execute_result",
          "data": {
            "text/plain": [
              "(329, 529, 3)"
            ]
          },
          "metadata": {},
          "execution_count": 37
        }
      ]
    },
    {
      "cell_type": "code",
      "source": [
        "height = result.shape[0]\n",
        "xx = 0\n",
        "for j in range(len(ind_size) - 1):\n",
        "    width = ind_size[j + 1][0] - ind_size[j][0]\n",
        "    x1 = ind_size[j][0]\n",
        "    x2 = x1 + width - 1\n",
        "\n",
        "    point1 = [x1, 0]\n",
        "    point2 = [x2, 0]\n",
        "    point3 = [x2, height - 1]\n",
        "    point4 = [x1, height - 1]\n",
        "\n",
        "\n",
        "    src_points = np.array([point1, point2, point3, point4], dtype=np.float32)\n",
        "    dst_points = np.array([[0, 0], [ind_size[j][1] - 1, 0], [ind_size[j][1] - 1, height - 1], [0, height - 1]], dtype=np.float32)\n",
        "\n",
        "    # Получите матрицу преобразования\n",
        "    perspective_matrix = cv2.getPerspectiveTransform(src_points, dst_points)\n",
        "\n",
        "    # Примените преобразование\n",
        "    result_rectangular = cv2.warpPerspective(result, perspective_matrix, (ind_size[j][1], height))\n",
        "\n",
        "    for i in range(len(result_rectangular)):\n",
        "        for k in range(ind_size[j][1]):\n",
        "            new_res[i][xx + k] = result_rectangular[i][k]\n",
        "    xx += ind_size[j][1]"
      ],
      "metadata": {
        "id": "lHuthiuQsWs8"
      },
      "execution_count": 38,
      "outputs": []
    },
    {
      "cell_type": "code",
      "source": [
        "new_width = 205\n",
        "new_height = 250\n",
        "\n",
        "# Сжимаем изображение до нового размера\n",
        "resized_image = cv2.resize(new_res, (new_width, new_height))\n",
        "# получаем итоговое изображение с поправкой на соотношение сторон 2050x2500 мм\n",
        "cv2.imwrite(\"/content/1_proj.jpg\", resized_image)"
      ],
      "metadata": {
        "colab": {
          "base_uri": "https://localhost:8080/"
        },
        "outputId": "39b68416-ed5c-43d4-96b0-fef33fac90f9",
        "id": "UOIlN_LTsWs8"
      },
      "execution_count": 39,
      "outputs": [
        {
          "output_type": "execute_result",
          "data": {
            "text/plain": [
              "True"
            ]
          },
          "metadata": {},
          "execution_count": 39
        }
      ]
    },
    {
      "cell_type": "code",
      "source": [],
      "metadata": {
        "id": "wyDe3Fx6ttH_"
      },
      "execution_count": 39,
      "outputs": []
    },
    {
      "cell_type": "markdown",
      "source": [
        "# 3 стена"
      ],
      "metadata": {
        "id": "YKEzBjYSSvqe"
      }
    },
    {
      "cell_type": "code",
      "source": [
        "panorama_image_path = \"/content/image_1024_aligned_rgb.png\"\n",
        "result = cv2.imread(panorama_image_path, cv2.IMREAD_COLOR)\n",
        "x_min = vertical_corners[4][0]\n",
        "x_max = vertical_corners[6][0]\n",
        "y1_max = 512\n",
        "y2_max = 0\n",
        "for i in range(x_min, x_max + 1):\n",
        "    y1_max = min(y1_max, horizontal_corners[0][i])\n",
        "    y2_max = max(y2_max, horizontal_corners[1][i])"
      ],
      "metadata": {
        "id": "rRyZeJ0nSygQ"
      },
      "execution_count": 40,
      "outputs": []
    },
    {
      "cell_type": "code",
      "source": [
        "width = 2\n",
        "for j in range(x_min, x_max + 1, width):\n",
        "    x1 = j\n",
        "    x2 = j + width - 1\n",
        "\n",
        "    # от верхней грани до высоты камеры\n",
        "    yy = 255\n",
        "    point1 = [x1, horizontal_corners[0][x1]]\n",
        "    point2 = [x2, horizontal_corners[0][x2]]\n",
        "    point3 = [x2, yy]\n",
        "    point4 = [x1, yy]\n",
        "\n",
        "    height = yy - y1_max + 1\n",
        "    src_points = np.array([point1, point2, point3, point4], dtype=np.float32)\n",
        "    dst_points = np.array([[0, 0], [width - 1, 0], [width - 1, height - 1], [0, height - 1]], dtype=np.float32)\n",
        "\n",
        "    # матрица преобразования\n",
        "    perspective_matrix = cv2.getPerspectiveTransform(src_points, dst_points)\n",
        "\n",
        "    # преобразование\n",
        "    result_rectangular = cv2.warpPerspective(result, perspective_matrix, (width, height))\n",
        "\n",
        "    for i in range(len(result_rectangular)):\n",
        "        for j in range(width):\n",
        "            result[i + y1_max][x1 + j] = result_rectangular[i][j]\n",
        "\n",
        "\n",
        "\n",
        "    # от высоты камеры до нижней грани\n",
        "    yy = 256\n",
        "    point1 = [x1, yy]\n",
        "    point2 = [x2, yy]\n",
        "    point3 = [x2, horizontal_corners[1][x2]]\n",
        "    point4 = [x1, horizontal_corners[1][x1]]\n",
        "\n",
        "    height = y2_max - yy + 1\n",
        "    src_points = np.array([point1, point2, point3, point4], dtype=np.float32)\n",
        "    dst_points = np.array([[0, 0], [width - 1, 0], [width - 1, height - 1], [0, height - 1]], dtype=np.float32)\n",
        "\n",
        "    # Получите матрицу преобразования\n",
        "    perspective_matrix = cv2.getPerspectiveTransform(src_points, dst_points)\n",
        "\n",
        "    # Примените преобразование\n",
        "    result_rectangular = cv2.warpPerspective(result, perspective_matrix, (width, height))\n",
        "\n",
        "    for i in range(len(result_rectangular)):\n",
        "        for k in range(width):\n",
        "            result[i + yy][x1 + k] = result_rectangular[i][k]"
      ],
      "metadata": {
        "id": "VDcDI52TSygR"
      },
      "execution_count": 41,
      "outputs": []
    },
    {
      "cell_type": "code",
      "source": [
        "result = result[y1_max:y2_max, x_min:x_max]\n",
        "#  # сохранить промежуточный результат\n",
        "#cv2.imwrite(\"/content/3_wall.jpg\", result)"
      ],
      "metadata": {
        "id": "OTHR7vGcSygR"
      },
      "execution_count": 42,
      "outputs": []
    },
    {
      "cell_type": "code",
      "source": [
        "# Нормаль к 2 стене\n",
        "depth_1_wall = depth_map[255][x_min:x_max]\n",
        "depth_1_wall[94:96] - min(depth_1_wall)"
      ],
      "metadata": {
        "colab": {
          "base_uri": "https://localhost:8080/"
        },
        "outputId": "f2c1e13d-6ef9-4b92-a293-ffbd44c4f343",
        "id": "uz8iRNlqSygR"
      },
      "execution_count": 43,
      "outputs": [
        {
          "output_type": "execute_result",
          "data": {
            "text/plain": [
              "array([0., 0.], dtype=float32)"
            ]
          },
          "metadata": {},
          "execution_count": 43
        }
      ]
    },
    {
      "cell_type": "code",
      "source": [
        "center_1_wall = 95\n",
        "mera = (depth_1_wall[center_1_wall + 3] ** 2 - depth_1_wall[center_1_wall] ** 2) ** 0.5"
      ],
      "metadata": {
        "id": "ATx9dpYUSygS"
      },
      "execution_count": 44,
      "outputs": []
    },
    {
      "cell_type": "code",
      "source": [
        "mera\n",
        "(depth_1_wall[center_1_wall - 4] ** 2 - depth_1_wall[center_1_wall] ** 2) ** 0.5 - mera"
      ],
      "metadata": {
        "colab": {
          "base_uri": "https://localhost:8080/"
        },
        "outputId": "e608fba2-de19-4d3e-d062-5550ba6a02e8",
        "id": "kQWt98kISygS"
      },
      "execution_count": 45,
      "outputs": [
        {
          "output_type": "execute_result",
          "data": {
            "text/plain": [
              "0.0"
            ]
          },
          "metadata": {},
          "execution_count": 45
        }
      ]
    },
    {
      "cell_type": "code",
      "source": [
        "ww =   ((depth_1_wall[0] **2 - depth_1_wall[center_1_wall]**2) ** 0.5\n",
        "      + (depth_1_wall[-1]**2 - depth_1_wall[center_1_wall]**2) ** 0.5)\n",
        "ww / 1.64"
      ],
      "metadata": {
        "colab": {
          "base_uri": "https://localhost:8080/"
        },
        "id": "V5wKR5HNxrAA",
        "outputId": "eaf2368e-8720-4835-9fe4-cb597647cd5b"
      },
      "execution_count": 46,
      "outputs": [
        {
          "output_type": "execute_result",
          "data": {
            "text/plain": [
              "0.7040685161631258"
            ]
          },
          "metadata": {},
          "execution_count": 46
        }
      ]
    },
    {
      "cell_type": "code",
      "source": [
        "wr1 = (depth_1_wall[-1] ** 2 - depth_1_wall[center_1_wall] ** 2) ** 0.5\n",
        "wr1 / (ww / 1.64)"
      ],
      "metadata": {
        "colab": {
          "base_uri": "https://localhost:8080/"
        },
        "outputId": "c9910081-1489-4af9-b126-198582dca42d",
        "id": "FuqeT97E94U4"
      },
      "execution_count": 47,
      "outputs": [
        {
          "output_type": "execute_result",
          "data": {
            "text/plain": [
              "0.3959861237427783"
            ]
          },
          "metadata": {},
          "execution_count": 47
        }
      ]
    },
    {
      "cell_type": "code",
      "source": [
        "#Расстояние от 3 стены до камеры примерно равно тому, что подсчитано на 2-ой стене, но всё равно не подошло к 4-ой\n",
        "depth_1_wall[center_1_wall]/ 1.2"
      ],
      "metadata": {
        "colab": {
          "base_uri": "https://localhost:8080/"
        },
        "id": "O3mTpq9-PNb0",
        "outputId": "155687d6-bb80-48b4-b41f-51f163d1a2cc"
      },
      "execution_count": 48,
      "outputs": [
        {
          "output_type": "execute_result",
          "data": {
            "text/plain": [
              "1.114448606967926"
            ]
          },
          "metadata": {},
          "execution_count": 48
        }
      ]
    },
    {
      "cell_type": "code",
      "source": [],
      "metadata": {
        "id": "80s33JFoPNfJ"
      },
      "execution_count": 48,
      "outputs": []
    },
    {
      "cell_type": "code",
      "source": [],
      "metadata": {
        "id": "dnDLwKOOPNi-"
      },
      "execution_count": 48,
      "outputs": []
    },
    {
      "cell_type": "code",
      "source": [
        "total_size = 0 + 4\n",
        "ind_size_higher = [[center_1_wall, 4]]\n",
        "ind = center_1_wall + 3\n",
        "prev = (depth_1_wall[center_1_wall + 3] ** 2 - depth_1_wall[center_1_wall] ** 2) ** 0.5\n",
        "while ind + 4 < len(depth_1_wall):\n",
        "    cur = (depth_1_wall[ind + 4] ** 2 - depth_1_wall[center_1_wall] ** 2) ** 0.5\n",
        "    next_size = np.around((cur - prev) / mera * 4, decimals = 0).astype(int)\n",
        "    ind_size_higher.append([ind, next_size])\n",
        "    total_size += next_size\n",
        "    ind += 4\n",
        "    prev = cur\n",
        "if ind != depth_1_wall.shape[0] - 1:\n",
        "    ind -= 4\n",
        "    total_size -= ind_size_higher[-1][1]\n",
        "    ind_size_higher.pop()\n",
        "    step = depth_1_wall.shape[0] - 1 - ind\n",
        "    cur =  ((depth_1_wall[ind + step] ** 2 - depth_1_wall[center_1_wall] ** 2) ** 0.5)\n",
        "    prev = ((depth_1_wall[ind] ** 2 - depth_1_wall[center_1_wall] ** 2) ** 0.5)\n",
        "    next_size = np.around((cur - prev) / mera * 4, decimals = 0).astype(int)\n",
        "    ind_size_higher.append([ind, next_size])\n",
        "    total_size += next_size\n",
        "    ind += step\n",
        "ind_size_higher.append([ind, 0])\n",
        "high_size = total_size\n",
        "#ind_size_higher"
      ],
      "metadata": {
        "id": "olKf0-sASygS"
      },
      "execution_count": 49,
      "outputs": []
    },
    {
      "cell_type": "code",
      "source": [
        "total_size = 4\n",
        "ind = center_1_wall - 4\n",
        "ind_size_lower = [[ind, 4]]\n",
        "ind -= 4\n",
        "prev = (depth_1_wall[center_1_wall + 3] ** 2 - depth_1_wall[center_1_wall] ** 2) ** 0.5\n",
        "while ind >= 0:\n",
        "    cur = ((depth_1_wall[ind] ** 2 - depth_1_wall[center_1_wall] ** 2) ** 0.5)\n",
        "    next_size = np.around((cur - prev) / mera * 4, decimals = 0).astype(int)\n",
        "    ind_size_lower.insert(0, [ind, next_size])\n",
        "    total_size += next_size\n",
        "    ind -= 4\n",
        "    prev = cur\n",
        "if ind != 0:\n",
        "    ind += 4 * 2\n",
        "    total_size -= ind_size_lower[0][1]\n",
        "    ind_size_lower.pop(0)\n",
        "    step = ind\n",
        "    prev = ((depth_1_wall[ind] ** 2 - depth_1_wall[center_1_wall] ** 2) ** 0.5)\n",
        "    cur = ((depth_1_wall[0] ** 2 - depth_1_wall[center_1_wall] ** 2) ** 0.5)\n",
        "    next_size = np.around((cur - prev)/ mera * 4, decimals = 0).astype(int)\n",
        "    ind_size_lower.insert(0, [0, next_size])\n",
        "    total_size += next_size\n",
        "    ind = 0\n",
        "total_size += high_size\n",
        "#ind_size_lower"
      ],
      "metadata": {
        "id": "VrDcqSRNSygS"
      },
      "execution_count": 50,
      "outputs": []
    },
    {
      "cell_type": "code",
      "source": [
        "ind_size = ind_size_lower + ind_size_higher\n",
        "new_res = np.zeros((result.shape[0], total_size, result.shape[2]), dtype=np.uint8)\n",
        "new_res.shape"
      ],
      "metadata": {
        "colab": {
          "base_uri": "https://localhost:8080/"
        },
        "outputId": "be6885b0-531d-4ab6-f6ad-2fae1871a55b",
        "id": "JbsS6IoDSygT"
      },
      "execution_count": 51,
      "outputs": [
        {
          "output_type": "execute_result",
          "data": {
            "text/plain": [
              "(275, 166, 3)"
            ]
          },
          "metadata": {},
          "execution_count": 51
        }
      ]
    },
    {
      "cell_type": "code",
      "source": [
        "height = result.shape[0]\n",
        "xx = 0\n",
        "for j in range(len(ind_size) - 1):\n",
        "    width = ind_size[j + 1][0] - ind_size[j][0]\n",
        "    x1 = ind_size[j][0]\n",
        "    x2 = x1 + width - 1\n",
        "\n",
        "    point1 = [x1, 0]\n",
        "    point2 = [x2, 0]\n",
        "    point3 = [x2, height - 1]\n",
        "    point4 = [x1, height - 1]\n",
        "\n",
        "\n",
        "    src_points = np.array([point1, point2, point3, point4], dtype=np.float32)\n",
        "    dst_points = np.array([[0, 0], [ind_size[j][1] - 1, 0], [ind_size[j][1] - 1, height - 1], [0, height - 1]], dtype=np.float32)\n",
        "\n",
        "    # Получите матрицу преобразования\n",
        "    perspective_matrix = cv2.getPerspectiveTransform(src_points, dst_points)\n",
        "\n",
        "    # Примените преобразование\n",
        "    result_rectangular = cv2.warpPerspective(result, perspective_matrix, (ind_size[j][1], height))\n",
        "\n",
        "    for i in range(len(result_rectangular)):\n",
        "        for k in range(ind_size[j][1]):\n",
        "            new_res[i][xx + k] = result_rectangular[i][k]\n",
        "    xx += ind_size[j][1]"
      ],
      "metadata": {
        "id": "q1FSdegFSygT"
      },
      "execution_count": 52,
      "outputs": []
    },
    {
      "cell_type": "code",
      "source": [
        "new_width = 164\n",
        "new_height = 250\n",
        "\n",
        "# Сжимаем изображение до нового размера\n",
        "resized_image = cv2.resize(new_res, (new_width, new_height))\n",
        "# получаем итоговое изображение с поправкой на соотношение сторон 1640x2500 мм\n",
        "cv2.imwrite(\"/content/2_proj.jpg\", resized_image)"
      ],
      "metadata": {
        "colab": {
          "base_uri": "https://localhost:8080/"
        },
        "outputId": "1190b46c-c911-4a37-c505-42099cc6c6c3",
        "id": "vr8_QUHMSygT"
      },
      "execution_count": 53,
      "outputs": [
        {
          "output_type": "execute_result",
          "data": {
            "text/plain": [
              "True"
            ]
          },
          "metadata": {},
          "execution_count": 53
        }
      ]
    },
    {
      "cell_type": "code",
      "source": [],
      "metadata": {
        "id": "imbcmpJsTe7Y"
      },
      "execution_count": 53,
      "outputs": []
    },
    {
      "cell_type": "markdown",
      "source": [
        "# 4 стена"
      ],
      "metadata": {
        "id": "kivr9imNT3rY"
      }
    },
    {
      "cell_type": "code",
      "source": [],
      "metadata": {
        "id": "q-O2tlIsT54Y"
      },
      "execution_count": 53,
      "outputs": []
    },
    {
      "cell_type": "code",
      "source": [
        "panorama_image_path = \"/content/image_1024_aligned_rgb.png\"\n",
        "result = cv2.imread(panorama_image_path, cv2.IMREAD_COLOR)\n",
        "x_min = vertical_corners[6][0]\n",
        "x_max = vertical_corners[8][0]\n",
        "y1_max = 512\n",
        "y2_max = 0\n",
        "for i in range(x_min, x_max + 1):\n",
        "    y1_max = min(y1_max, horizontal_corners[0][i])\n",
        "    y2_max = max(y2_max, horizontal_corners[1][i])"
      ],
      "metadata": {
        "id": "4hHPEkudUJPH"
      },
      "execution_count": 54,
      "outputs": []
    },
    {
      "cell_type": "code",
      "source": [
        "width = 2\n",
        "for j in range(x_min, x_max + 1, width):\n",
        "    x1 = j\n",
        "    x2 = j + width - 1\n",
        "\n",
        "    # от верхней грани до высоты камеры\n",
        "    yy = 255\n",
        "    point1 = [x1, horizontal_corners[0][x1]]\n",
        "    point2 = [x2, horizontal_corners[0][x2]]\n",
        "    point3 = [x2, yy]\n",
        "    point4 = [x1, yy]\n",
        "\n",
        "    height = yy - y1_max + 1\n",
        "    src_points = np.array([point1, point2, point3, point4], dtype=np.float32)\n",
        "    dst_points = np.array([[0, 0], [width - 1, 0], [width - 1, height - 1], [0, height - 1]], dtype=np.float32)\n",
        "\n",
        "    # матрица преобразования\n",
        "    perspective_matrix = cv2.getPerspectiveTransform(src_points, dst_points)\n",
        "\n",
        "    # преобразование\n",
        "    result_rectangular = cv2.warpPerspective(result, perspective_matrix, (width, height))\n",
        "\n",
        "    for i in range(len(result_rectangular)):\n",
        "        for j in range(width):\n",
        "            result[i + y1_max][x1 + j] = result_rectangular[i][j]\n",
        "\n",
        "\n",
        "\n",
        "    # от высоты камеры до нижней грани\n",
        "    yy = 256\n",
        "    point1 = [x1, yy]\n",
        "    point2 = [x2, yy]\n",
        "    point3 = [x2, horizontal_corners[1][x2]]\n",
        "    point4 = [x1, horizontal_corners[1][x1]]\n",
        "\n",
        "    height = y2_max - yy + 1\n",
        "    src_points = np.array([point1, point2, point3, point4], dtype=np.float32)\n",
        "    dst_points = np.array([[0, 0], [width - 1, 0], [width - 1, height - 1], [0, height - 1]], dtype=np.float32)\n",
        "\n",
        "    # Получите матрицу преобразования\n",
        "    perspective_matrix = cv2.getPerspectiveTransform(src_points, dst_points)\n",
        "\n",
        "    # Примените преобразование\n",
        "    result_rectangular = cv2.warpPerspective(result, perspective_matrix, (width, height))\n",
        "\n",
        "    for i in range(len(result_rectangular)):\n",
        "        for k in range(width):\n",
        "            result[i + yy][x1 + k] = result_rectangular[i][k]"
      ],
      "metadata": {
        "id": "CsYGtHQWUJPR"
      },
      "execution_count": 55,
      "outputs": []
    },
    {
      "cell_type": "code",
      "source": [
        "result = result[y1_max:y2_max, x_min:x_max]\n",
        "#  # сохранить промежуточный результат\n",
        "#cv2.imwrite(\"/content/4_wall.jpg\", result)"
      ],
      "metadata": {
        "id": "q-eAW24OUJPR"
      },
      "execution_count": 56,
      "outputs": []
    },
    {
      "cell_type": "code",
      "source": [
        "# Нормаль к 2 стене\n",
        "depth_1_wall = depth_map[255][x_min:x_max]\n",
        "depth_1_wall"
      ],
      "metadata": {
        "colab": {
          "base_uri": "https://localhost:8080/"
        },
        "outputId": "7e696e3d-974e-451b-bc35-5e83ef4b2577",
        "id": "40ILKf-2UJPS"
      },
      "execution_count": 57,
      "outputs": [
        {
          "output_type": "execute_result",
          "data": {
            "text/plain": [
              "array([1.3511024 , 1.3136218 , 1.2782112 , 1.2447054 , 1.2129558 ,\n",
              "       1.182829  , 1.154205  , 1.1269749 , 1.1010406 , 1.0763128 ,\n",
              "       1.0527099 , 1.0301579 , 1.0085893 , 0.98794156, 0.96815807,\n",
              "       0.9491863 , 0.93097824, 0.91348934, 0.8966785 , 0.88050777,\n",
              "       0.86494195, 0.84994835, 0.83549666, 0.8215586 , 0.8081079 ,\n",
              "       0.79511994, 0.7825719 , 0.7704423 , 0.7587111 , 0.7473595 ,\n",
              "       0.7363699 , 0.72572577, 0.7154115 , 0.70541245, 0.69571495,\n",
              "       0.6863059 , 0.67717314, 0.66830504, 0.6596908 , 0.6513199 ,\n",
              "       0.6431828 , 0.63527006, 0.627573  ], dtype=float32)"
            ]
          },
          "metadata": {},
          "execution_count": 57
        }
      ]
    },
    {
      "cell_type": "code",
      "source": [
        "OA = depth_1_wall[0]\n",
        "OB = depth_1_wall[-1]\n",
        "AN = ((OA**2 - OB**2) / (1 - 0.56**2))** 0.5\n",
        "AB = AN * 0.44\n",
        "valid_ = AN <= OA\n",
        "#BN = (OA*OA - AN*AN) ** 0.5\n",
        "[OA, OB, AN, AB, {'valid?' : valid_}]"
      ],
      "metadata": {
        "colab": {
          "base_uri": "https://localhost:8080/"
        },
        "id": "1GEByPvpgN8r",
        "outputId": "6e8e9e76-0c58-4b10-809d-75c4242671f1"
      },
      "execution_count": 58,
      "outputs": [
        {
          "output_type": "execute_result",
          "data": {
            "text/plain": [
              "[1.3511024,\n",
              " 0.627573,\n",
              " 1.4441978999451555,\n",
              " 0.6354470759758684,\n",
              " {'valid?': False}]"
            ]
          },
          "metadata": {},
          "execution_count": 58
        }
      ]
    },
    {
      "cell_type": "code",
      "source": [
        "center_1_wall = len(depth_1_wall) - 1\n",
        "mera = (depth_1_wall[center_1_wall - 4] ** 2 - depth_1_wall[center_1_wall] ** 2) ** 0.5 /4\n",
        "mera"
      ],
      "metadata": {
        "colab": {
          "base_uri": "https://localhost:8080/"
        },
        "id": "9y4YGwZkGR6V",
        "outputId": "b7670738-ba5d-450d-a34f-0442a5a22874"
      },
      "execution_count": 59,
      "outputs": [
        {
          "output_type": "execute_result",
          "data": {
            "text/plain": [
              "0.05083309764006692"
            ]
          },
          "metadata": {},
          "execution_count": 59
        }
      ]
    },
    {
      "cell_type": "code",
      "source": [
        "total_size = 4\n",
        "ind = center_1_wall - 4\n",
        "ind_size_lower = [[ind, 4]]\n",
        "ind -= 4\n",
        "prev = mera\n",
        "while ind >= 0:\n",
        "    cur = ((depth_1_wall[ind] ** 2 - depth_1_wall[center_1_wall] ** 2) ** 0.5)\n",
        "    next_size = np.around((cur - prev) / mera * 4, decimals = 0).astype(int)\n",
        "    ind_size_lower.insert(0, [ind, next_size])\n",
        "    total_size += next_size\n",
        "    ind -= 4\n",
        "    prev = cur\n",
        "if ind != 0:\n",
        "    ind += 4 * 2\n",
        "    total_size -= ind_size_lower[0][1]\n",
        "    ind_size_lower.pop(0)\n",
        "    step = ind\n",
        "    prev = ((depth_1_wall[ind] ** 2 - depth_1_wall[center_1_wall] ** 2) ** 0.5)\n",
        "    cur = ((depth_1_wall[0] ** 2 - depth_1_wall[center_1_wall] ** 2) ** 0.5)\n",
        "    next_size = np.around((cur - prev)/ mera * 4, decimals = 0).astype(int)\n",
        "    ind_size_lower.insert(0, [0, next_size])\n",
        "    total_size += next_size\n",
        "    ind = 0\n",
        "ind_size_lower.append([center_1_wall, 0])\n",
        "total_size += - ind_size_lower[-3][1] + 5\n",
        "ind_size_lower[-3][1] = 5\n",
        "total_size += - ind_size_lower[-4][1] + 6\n",
        "ind_size_lower[-4][1] = 6\n",
        "ind_size_lower"
      ],
      "metadata": {
        "colab": {
          "base_uri": "https://localhost:8080/"
        },
        "id": "4cVPDExHUJPS",
        "outputId": "21d44756-0750-4d47-c9f7-69c35f2d1cce"
      },
      "execution_count": 60,
      "outputs": [
        {
          "output_type": "execute_result",
          "data": {
            "text/plain": [
              "[[0, 18],\n",
              " [6, 10],\n",
              " [10, 8],\n",
              " [14, 8],\n",
              " [18, 7],\n",
              " [22, 7],\n",
              " [26, 6],\n",
              " [30, 6],\n",
              " [34, 5],\n",
              " [38, 4],\n",
              " [42, 0]]"
            ]
          },
          "metadata": {},
          "execution_count": 60
        }
      ]
    },
    {
      "cell_type": "code",
      "source": [
        "ind_size = ind_size_lower\n",
        "new_res = np.zeros((result.shape[0], total_size, result.shape[2]), dtype=np.uint8)\n",
        "new_res.shape"
      ],
      "metadata": {
        "colab": {
          "base_uri": "https://localhost:8080/"
        },
        "outputId": "918e1016-9cdc-4d95-ac0d-9a2d62849f7d",
        "id": "VoUl3xxYkLmo"
      },
      "execution_count": 61,
      "outputs": [
        {
          "output_type": "execute_result",
          "data": {
            "text/plain": [
              "(369, 79, 3)"
            ]
          },
          "metadata": {},
          "execution_count": 61
        }
      ]
    },
    {
      "cell_type": "code",
      "source": [
        "height = result.shape[0]\n",
        "xx = 0\n",
        "for j in range(len(ind_size) - 1):\n",
        "    width = ind_size[j + 1][0] - ind_size[j][0]\n",
        "    x1 = ind_size[j][0]\n",
        "    x2 = x1 + width - 1\n",
        "\n",
        "    point1 = [x1, 0]\n",
        "    point2 = [x2, 0]\n",
        "    point3 = [x2, height - 1]\n",
        "    point4 = [x1, height - 1]\n",
        "\n",
        "\n",
        "    src_points = np.array([point1, point2, point3, point4], dtype=np.float32)\n",
        "    dst_points = np.array([[0, 0], [ind_size[j][1] - 1, 0], [ind_size[j][1] - 1, height - 1], [0, height - 1]], dtype=np.float32)\n",
        "\n",
        "    # Получите матрицу преобразования\n",
        "    perspective_matrix = cv2.getPerspectiveTransform(src_points, dst_points)\n",
        "\n",
        "    # Примените преобразование\n",
        "    result_rectangular = cv2.warpPerspective(result, perspective_matrix, (ind_size[j][1], height))\n",
        "\n",
        "    for i in range(len(result_rectangular)):\n",
        "        for k in range(ind_size[j][1]):\n",
        "            new_res[i][xx + k] = result_rectangular[i][k]\n",
        "    xx += ind_size[j][1]"
      ],
      "metadata": {
        "id": "OQm1u_H6kLmy"
      },
      "execution_count": 62,
      "outputs": []
    },
    {
      "cell_type": "code",
      "source": [
        "new_width = 40\n",
        "new_height = 250\n",
        "\n",
        "# Сжимаем изображение до нового размера\n",
        "resized_image = cv2.resize(result, (new_width, new_height))\n",
        "# получаем итоговое изображение с поправкой на соотношение сторон 400x2500 мм\n",
        "cv2.imwrite(\"/content/3_proj.jpg\", resized_image)"
      ],
      "metadata": {
        "colab": {
          "base_uri": "https://localhost:8080/"
        },
        "outputId": "ec61ef7e-1017-4363-af3b-b1c34930a5b3",
        "id": "Y3xKpY8cUJPU"
      },
      "execution_count": 63,
      "outputs": [
        {
          "output_type": "execute_result",
          "data": {
            "text/plain": [
              "True"
            ]
          },
          "metadata": {},
          "execution_count": 63
        }
      ]
    },
    {
      "cell_type": "code",
      "source": [],
      "metadata": {
        "id": "RaZRfctrV5J_"
      },
      "execution_count": 63,
      "outputs": []
    },
    {
      "cell_type": "markdown",
      "source": [
        "# 5 стена"
      ],
      "metadata": {
        "id": "os9IYpmpWiLS"
      }
    },
    {
      "cell_type": "code",
      "source": [
        "panorama_image_path = \"/content/image_1024_aligned_rgb.png\"\n",
        "result = cv2.imread(panorama_image_path, cv2.IMREAD_COLOR)\n",
        "x_min = vertical_corners[8][0]\n",
        "x_max = vertical_corners[10][0]\n",
        "y1_max = 512\n",
        "y2_max = 0\n",
        "for i in range(x_min, x_max + 1):\n",
        "    y1_max = min(y1_max, horizontal_corners[0][i])\n",
        "    y2_max = max(y2_max, horizontal_corners[1][i])"
      ],
      "metadata": {
        "id": "mKAEfSe1Wpfx"
      },
      "execution_count": 64,
      "outputs": []
    },
    {
      "cell_type": "code",
      "source": [
        "width = 2\n",
        "for j in range(x_min, x_max + 1, width):\n",
        "    x1 = j\n",
        "    x2 = j + width - 1\n",
        "\n",
        "    # от верхней грани до высоты камеры\n",
        "    yy = 255\n",
        "    point1 = [x1, horizontal_corners[0][x1]]\n",
        "    point2 = [x2, horizontal_corners[0][x2]]\n",
        "    point3 = [x2, yy]\n",
        "    point4 = [x1, yy]\n",
        "\n",
        "    height = yy - y1_max + 1\n",
        "    src_points = np.array([point1, point2, point3, point4], dtype=np.float32)\n",
        "    dst_points = np.array([[0, 0], [width - 1, 0], [width - 1, height - 1], [0, height - 1]], dtype=np.float32)\n",
        "\n",
        "    # матрица преобразования\n",
        "    perspective_matrix = cv2.getPerspectiveTransform(src_points, dst_points)\n",
        "\n",
        "    # преобразование\n",
        "    result_rectangular = cv2.warpPerspective(result, perspective_matrix, (width, height))\n",
        "\n",
        "    for i in range(len(result_rectangular)):\n",
        "        for j in range(width):\n",
        "            result[i + y1_max][x1 + j] = result_rectangular[i][j]\n",
        "\n",
        "\n",
        "\n",
        "    # от высоты камеры до нижней грани\n",
        "    yy = 256\n",
        "    point1 = [x1, yy]\n",
        "    point2 = [x2, yy]\n",
        "    point3 = [x2, horizontal_corners[1][x2]]\n",
        "    point4 = [x1, horizontal_corners[1][x1]]\n",
        "\n",
        "    height = y2_max - yy + 1\n",
        "    src_points = np.array([point1, point2, point3, point4], dtype=np.float32)\n",
        "    dst_points = np.array([[0, 0], [width - 1, 0], [width - 1, height - 1], [0, height - 1]], dtype=np.float32)\n",
        "\n",
        "    # Получите матрицу преобразования\n",
        "    perspective_matrix = cv2.getPerspectiveTransform(src_points, dst_points)\n",
        "\n",
        "    # Примените преобразование\n",
        "    result_rectangular = cv2.warpPerspective(result, perspective_matrix, (width, height))\n",
        "\n",
        "    for i in range(len(result_rectangular)):\n",
        "        for k in range(width):\n",
        "            result[i + yy][x1 + k] = result_rectangular[i][k]"
      ],
      "metadata": {
        "id": "L3hCnWvyWpfy"
      },
      "execution_count": 65,
      "outputs": []
    },
    {
      "cell_type": "code",
      "source": [
        "result = result[y1_max:y2_max, x_min:x_max]\n",
        "#  # сохранить промежуточный результат\n",
        "#cv2.imwrite(\"/content/5_wall.jpg\", result)"
      ],
      "metadata": {
        "id": "ddVr595hWpfy"
      },
      "execution_count": 66,
      "outputs": []
    },
    {
      "cell_type": "code",
      "source": [
        "# Нормаль к 2 стене\n",
        "depth_1_wall = depth_map[255][x_min:x_max]\n",
        "#depth_1_wall"
      ],
      "metadata": {
        "id": "i2K5-5MCWpfy"
      },
      "execution_count": 67,
      "outputs": []
    },
    {
      "cell_type": "code",
      "source": [
        "center_1_wall = 0\n",
        "mera = (depth_1_wall[center_1_wall + 3] ** 2 - depth_1_wall[center_1_wall] ** 2) ** 0.5\n",
        "mera"
      ],
      "metadata": {
        "colab": {
          "base_uri": "https://localhost:8080/"
        },
        "id": "1Sh1ONFTWpfz",
        "outputId": "f72657db-13b6-4210-9f03-19d610ac679d"
      },
      "execution_count": 68,
      "outputs": [
        {
          "output_type": "execute_result",
          "data": {
            "text/plain": [
              "0.05291626340466949"
            ]
          },
          "metadata": {},
          "execution_count": 68
        }
      ]
    },
    {
      "cell_type": "code",
      "source": [
        "mera = (depth_1_wall[center_1_wall + 7] ** 2 - depth_1_wall[center_1_wall] ** 2) ** 0.5 - mera"
      ],
      "metadata": {
        "id": "4YVe-td8Wpfz"
      },
      "execution_count": 69,
      "outputs": []
    },
    {
      "cell_type": "code",
      "source": [
        "total_size = 0 + 4\n",
        "ind_size_higher = [[center_1_wall, 4]]\n",
        "ind = center_1_wall + 3\n",
        "prev = mera\n",
        "while ind + 4 < len(depth_1_wall):\n",
        "    cur = (depth_1_wall[ind + 4] ** 2 - depth_1_wall[center_1_wall] ** 2) ** 0.5\n",
        "    next_size = np.around((cur - prev) / mera * 4, decimals = 0).astype(int)\n",
        "    ind_size_higher.append([ind, next_size])\n",
        "    total_size += next_size\n",
        "    ind += 4\n",
        "    prev = cur\n",
        "if ind != depth_1_wall.shape[0] - 1:\n",
        "    ind -= 4\n",
        "    total_size -= ind_size_higher[-1][1]\n",
        "    ind_size_higher.pop()\n",
        "    step = depth_1_wall.shape[0] - 1 - ind\n",
        "    cur =  ((depth_1_wall[ind + step] ** 2 - depth_1_wall[center_1_wall] ** 2) ** 0.5)\n",
        "    prev = ((depth_1_wall[ind] ** 2 - depth_1_wall[center_1_wall] ** 2) ** 0.5)\n",
        "    next_size = np.around((cur - prev) / mera * 4, decimals = 0).astype(int)\n",
        "    ind_size_higher.append([ind, next_size])\n",
        "    total_size += next_size\n",
        "    ind += step\n",
        "ind_size_higher.append([ind, 0])\n",
        "for i in range(3):\n",
        "    ind_size_higher[i][1] = 2\n",
        "total_size -= 4\n",
        "ind_size_higher"
      ],
      "metadata": {
        "colab": {
          "base_uri": "https://localhost:8080/"
        },
        "id": "JmdULQPiWpfz",
        "outputId": "79f5c37d-7c61-456f-da4b-be0e3cbe34a6"
      },
      "execution_count": 70,
      "outputs": [
        {
          "output_type": "execute_result",
          "data": {
            "text/plain": [
              "[[0, 2],\n",
              " [3, 2],\n",
              " [7, 2],\n",
              " [11, 2],\n",
              " [15, 2],\n",
              " [19, 2],\n",
              " [23, 2],\n",
              " [27, 2],\n",
              " [31, 2],\n",
              " [35, 2],\n",
              " [39, 2],\n",
              " [43, 2],\n",
              " [47, 2],\n",
              " [51, 2],\n",
              " [55, 2],\n",
              " [59, 2],\n",
              " [63, 2],\n",
              " [67, 2],\n",
              " [71, 3],\n",
              " [75, 3],\n",
              " [79, 3],\n",
              " [83, 3],\n",
              " [87, 3],\n",
              " [91, 4],\n",
              " [95, 4],\n",
              " [99, 4],\n",
              " [103, 5],\n",
              " [107, 5],\n",
              " [111, 6],\n",
              " [115, 6],\n",
              " [119, 7],\n",
              " [123, 8],\n",
              " [127, 10],\n",
              " [131, 11],\n",
              " [135, 14],\n",
              " [139, 17],\n",
              " [143, 21],\n",
              " [147, 27],\n",
              " [151, 35],\n",
              " [155, 103],\n",
              " [162, 0]]"
            ]
          },
          "metadata": {},
          "execution_count": 70
        }
      ]
    },
    {
      "cell_type": "code",
      "source": [
        "ind_size = ind_size_higher\n",
        "new_res = np.zeros((result.shape[0], total_size, result.shape[2]), dtype=np.uint8)\n",
        "new_res.shape"
      ],
      "metadata": {
        "colab": {
          "base_uri": "https://localhost:8080/"
        },
        "outputId": "bb175f4b-a511-4bdf-863d-94cbd708c1da",
        "id": "ODBoToCzWpfz"
      },
      "execution_count": 71,
      "outputs": [
        {
          "output_type": "execute_result",
          "data": {
            "text/plain": [
              "(373, 338, 3)"
            ]
          },
          "metadata": {},
          "execution_count": 71
        }
      ]
    },
    {
      "cell_type": "code",
      "source": [
        "height = result.shape[0]\n",
        "xx = 0\n",
        "for j in range(len(ind_size) - 1):\n",
        "    width = ind_size[j + 1][0] - ind_size[j][0]\n",
        "    x1 = ind_size[j][0]\n",
        "    x2 = x1 + width - 1\n",
        "\n",
        "    point1 = [x1, 0]\n",
        "    point2 = [x2, 0]\n",
        "    point3 = [x2, height - 1]\n",
        "    point4 = [x1, height - 1]\n",
        "\n",
        "\n",
        "    src_points = np.array([point1, point2, point3, point4], dtype=np.float32)\n",
        "    dst_points = np.array([[0, 0], [ind_size[j][1] - 1, 0], [ind_size[j][1] - 1, height - 1], [0, height - 1]], dtype=np.float32)\n",
        "\n",
        "    # Получите матрицу преобразования\n",
        "    perspective_matrix = cv2.getPerspectiveTransform(src_points, dst_points)\n",
        "\n",
        "    # Примените преобразование\n",
        "    result_rectangular = cv2.warpPerspective(result, perspective_matrix, (ind_size[j][1], height))\n",
        "\n",
        "    for i in range(len(result_rectangular)):\n",
        "        for k in range(ind_size[j][1]):\n",
        "            new_res[i][xx + k] = result_rectangular[i][k]\n",
        "    xx += ind_size[j][1]"
      ],
      "metadata": {
        "id": "Qm3M9w3oWpf0"
      },
      "execution_count": 72,
      "outputs": []
    },
    {
      "cell_type": "code",
      "source": [
        "new_width = 438\n",
        "new_height = 250\n",
        "\n",
        "# Сжимаем изображение до нового размера\n",
        "resized_image = cv2.resize(new_res, (new_width, new_height))\n",
        "# получаем итоговое изображение с поправкой на соотношение сторон 6020x250 мм\n",
        "cv2.imwrite(\"/content/4_proj.jpg\", resized_image)"
      ],
      "metadata": {
        "colab": {
          "base_uri": "https://localhost:8080/"
        },
        "outputId": "9b92bbc3-5535-4e56-96ed-41510878f4ba",
        "id": "sct6ia7oWpf0"
      },
      "execution_count": 73,
      "outputs": [
        {
          "output_type": "execute_result",
          "data": {
            "text/plain": [
              "True"
            ]
          },
          "metadata": {},
          "execution_count": 73
        }
      ]
    },
    {
      "cell_type": "markdown",
      "source": [
        "# 6 стена"
      ],
      "metadata": {
        "id": "mh9n7N06S8gj"
      }
    },
    {
      "cell_type": "code",
      "source": [
        "panorama_image_path = \"/content/image_1024_aligned_rgb.png\"\n",
        "result = cv2.imread(panorama_image_path, cv2.IMREAD_COLOR)\n",
        "\n",
        "x_min_1 = vertical_corners[10][0]\n",
        "x_max_1 = 1023\n",
        "\n",
        "x_min_2 = 0\n",
        "x_max_2 = vertical_corners[0][0]\n",
        "\n",
        "y1_max = 512\n",
        "y2_max = 0\n",
        "\n",
        "for i in range(x_min_1, x_max_1 + 1):\n",
        "    y1_max = min(y1_max, horizontal_corners[0][i])\n",
        "    y2_max = max(y2_max, horizontal_corners[1][i])\n",
        "\n",
        "for i in range(x_min_2, x_max_2 + 1):\n",
        "    y1_max = min(y1_max, horizontal_corners[0][i])\n",
        "    y2_max = max(y2_max, horizontal_corners[1][i])\n",
        "\n",
        "[y1_max, y2_max]"
      ],
      "metadata": {
        "colab": {
          "base_uri": "https://localhost:8080/"
        },
        "id": "JjzzJf3ZlMvS",
        "outputId": "a016f4a1-d267-4694-b9a1-831689336dd2"
      },
      "execution_count": 74,
      "outputs": [
        {
          "output_type": "execute_result",
          "data": {
            "text/plain": [
              "[220, 303]"
            ]
          },
          "metadata": {},
          "execution_count": 74
        }
      ]
    },
    {
      "cell_type": "code",
      "source": [
        "width = 2\n",
        "for j in range(x_min_1, x_max_1 + 1, width):\n",
        "    x1 = j\n",
        "    x2 = j + width - 1\n",
        "\n",
        "    # от верхней грани до высоты камеры\n",
        "    yy = 255\n",
        "    point1 = [x1, horizontal_corners[0][x1]]\n",
        "    point2 = [x2, horizontal_corners[0][x2]]\n",
        "    point3 = [x2, yy]\n",
        "    point4 = [x1, yy]\n",
        "\n",
        "    height = yy - y1_max + 1\n",
        "    src_points = np.array([point1, point2, point3, point4], dtype=np.float32)\n",
        "    dst_points = np.array([[0, 0], [width - 1, 0], [width - 1, height - 1], [0, height - 1]], dtype=np.float32)\n",
        "\n",
        "    # матрица преобразования\n",
        "    perspective_matrix = cv2.getPerspectiveTransform(src_points, dst_points)\n",
        "\n",
        "    # преобразование\n",
        "    result_rectangular = cv2.warpPerspective(result, perspective_matrix, (width, height))\n",
        "\n",
        "    for i in range(len(result_rectangular)):\n",
        "        for j in range(width):\n",
        "            result[i + y1_max][x1 + j] = result_rectangular[i][j]\n",
        "\n",
        "\n",
        "\n",
        "    # от высоты камеры до нижней грани\n",
        "    yy = 256\n",
        "    point1 = [x1, yy]\n",
        "    point2 = [x2, yy]\n",
        "    point3 = [x2, horizontal_corners[1][x2]]\n",
        "    point4 = [x1, horizontal_corners[1][x1]]\n",
        "\n",
        "    height = y2_max - yy + 1\n",
        "    src_points = np.array([point1, point2, point3, point4], dtype=np.float32)\n",
        "    dst_points = np.array([[0, 0], [width - 1, 0], [width - 1, height - 1], [0, height - 1]], dtype=np.float32)\n",
        "\n",
        "    # Получите матрицу преобразования\n",
        "    perspective_matrix = cv2.getPerspectiveTransform(src_points, dst_points)\n",
        "\n",
        "    # Примените преобразование\n",
        "    result_rectangular = cv2.warpPerspective(result, perspective_matrix, (width, height))\n",
        "\n",
        "    for i in range(len(result_rectangular)):\n",
        "        for k in range(width):\n",
        "            result[i + yy][x1 + k] = result_rectangular[i][k]"
      ],
      "metadata": {
        "id": "hVHqX54TpYJa"
      },
      "execution_count": 75,
      "outputs": []
    },
    {
      "cell_type": "code",
      "source": [
        "width = 2\n",
        "for j in range(x_min_2, x_max_2 + 1, width):\n",
        "    x1 = j\n",
        "    x2 = j + width - 1\n",
        "\n",
        "    # от верхней грани до высоты камеры\n",
        "    yy = 255\n",
        "    point1 = [x1, horizontal_corners[0][x1]]\n",
        "    point2 = [x2, horizontal_corners[0][x2]]\n",
        "    point3 = [x2, yy]\n",
        "    point4 = [x1, yy]\n",
        "\n",
        "    height = yy - y1_max + 1\n",
        "    src_points = np.array([point1, point2, point3, point4], dtype=np.float32)\n",
        "    dst_points = np.array([[0, 0], [width - 1, 0], [width - 1, height - 1], [0, height - 1]], dtype=np.float32)\n",
        "\n",
        "    # матрица преобразования\n",
        "    perspective_matrix = cv2.getPerspectiveTransform(src_points, dst_points)\n",
        "\n",
        "    # преобразование\n",
        "    result_rectangular = cv2.warpPerspective(result, perspective_matrix, (width, height))\n",
        "\n",
        "    for i in range(len(result_rectangular)):\n",
        "        for j in range(width):\n",
        "            result[i + y1_max][x1 + j] = result_rectangular[i][j]\n",
        "\n",
        "\n",
        "\n",
        "    # от высоты камеры до нижней грани\n",
        "    yy = 256\n",
        "    point1 = [x1, yy]\n",
        "    point2 = [x2, yy]\n",
        "    point3 = [x2, horizontal_corners[1][x2]]\n",
        "    point4 = [x1, horizontal_corners[1][x1]]\n",
        "\n",
        "    height = y2_max - yy + 1\n",
        "    src_points = np.array([point1, point2, point3, point4], dtype=np.float32)\n",
        "    dst_points = np.array([[0, 0], [width - 1, 0], [width - 1, height - 1], [0, height - 1]], dtype=np.float32)\n",
        "\n",
        "    # Получите матрицу преобразования\n",
        "    perspective_matrix = cv2.getPerspectiveTransform(src_points, dst_points)\n",
        "\n",
        "    # Примените преобразование\n",
        "    result_rectangular = cv2.warpPerspective(result, perspective_matrix, (width, height))\n",
        "\n",
        "    for i in range(len(result_rectangular)):\n",
        "        for k in range(width):\n",
        "            result[i + yy][x1 + k] = result_rectangular[i][k]"
      ],
      "metadata": {
        "id": "W8Q3fbbvpYyG"
      },
      "execution_count": 76,
      "outputs": []
    },
    {
      "cell_type": "code",
      "source": [
        "xxx = x_max_1 - x_min_1 + 1 + x_max_2 - x_min_2 + 1\n",
        "yyy = y2_max - y1_max + 1"
      ],
      "metadata": {
        "id": "jCrMgqa0lMoY"
      },
      "execution_count": 77,
      "outputs": []
    },
    {
      "cell_type": "code",
      "source": [
        "new_res = np.zeros((yyy, xxx, result.shape[2]), dtype=np.uint8)\n",
        "new_res.shape"
      ],
      "metadata": {
        "colab": {
          "base_uri": "https://localhost:8080/"
        },
        "id": "EnnieDkclMWF",
        "outputId": "36a2a0c8-6ad1-4423-a762-7b19c7b66c1d"
      },
      "execution_count": 78,
      "outputs": [
        {
          "output_type": "execute_result",
          "data": {
            "text/plain": [
              "(84, 48, 3)"
            ]
          },
          "metadata": {},
          "execution_count": 78
        }
      ]
    },
    {
      "cell_type": "code",
      "source": [
        "for i in range(x_min_1, x_max_1 + 1):\n",
        "    for j in range(y1_max, y2_max + 1):\n",
        "        new_res[j - y1_max][i - x_min_1] = result[j][i]"
      ],
      "metadata": {
        "id": "N4-1SLxUlMyb"
      },
      "execution_count": 79,
      "outputs": []
    },
    {
      "cell_type": "code",
      "source": [
        "temp = x_max_1 - x_min_1 + 1\n",
        "for i in range(x_min_2, x_max_2 + 1):\n",
        "    for j in range(y1_max, y2_max + 1):\n",
        "        new_res[j - y1_max][i - x_min_2 + temp] = result[j][i]"
      ],
      "metadata": {
        "id": "0heqJQDznzdP"
      },
      "execution_count": 80,
      "outputs": []
    },
    {
      "cell_type": "code",
      "source": [
        "# cv2.imwrite(\"/content/6_wall.jpg\", new_res)"
      ],
      "metadata": {
        "id": "wpO7c3y_lM2J"
      },
      "execution_count": 81,
      "outputs": []
    },
    {
      "cell_type": "code",
      "source": [
        "result = new_res"
      ],
      "metadata": {
        "id": "ySo724avsqXu"
      },
      "execution_count": 82,
      "outputs": []
    },
    {
      "cell_type": "code",
      "source": [
        "depth_1_wall = list(depth_map[255][vertical_corners[10][0]:1024]) + list(depth_map[255][0:vertical_corners[0][0]+1])\n",
        "depth_1_wall = np.array(depth_1_wall, dtype=np.float32)\n",
        "depth_1_wall"
      ],
      "metadata": {
        "colab": {
          "base_uri": "https://localhost:8080/"
        },
        "id": "m0_oT3z2TBd6",
        "outputId": "a1cabbd5-5f51-456c-b23e-a59cd7f33134"
      },
      "execution_count": 83,
      "outputs": [
        {
          "output_type": "execute_result",
          "data": {
            "text/plain": [
              "array([5.7701054, 5.8151207, 5.812049 , 5.809199 , 5.80657  , 5.8041625,\n",
              "       5.801975 , 5.800007 , 5.7982593, 5.79673  , 5.79542  , 5.794329 ,\n",
              "       5.7934566, 5.792802 , 5.792366 , 5.7921476, 5.7921476, 5.792366 ,\n",
              "       5.7928023, 5.7934566, 5.794329 , 5.7954206, 5.7967305, 5.7982593,\n",
              "       5.8000073, 5.8019753, 5.8041625, 5.8065705, 5.8091993, 5.8120494,\n",
              "       5.815121 , 5.8184156, 5.821933 , 5.825674 , 5.8296394, 5.8338304,\n",
              "       5.8382473, 5.8428907, 5.847762 , 5.852862 , 5.8581915, 5.863752 ,\n",
              "       5.869544 , 5.875569 , 5.881828 , 5.888322 , 5.895053 , 5.8855715],\n",
              "      dtype=float32)"
            ]
          },
          "metadata": {},
          "execution_count": 83
        }
      ]
    },
    {
      "cell_type": "code",
      "source": [
        "depth_1_wall[0] = depth_1_wall[1] + (depth_1_wall[1] - depth_1_wall[2])\n",
        "depth_1_wall[0]"
      ],
      "metadata": {
        "colab": {
          "base_uri": "https://localhost:8080/"
        },
        "id": "RqwQyRZatQPE",
        "outputId": "6c0d0720-2ae2-414b-ae1e-cc8675b96f3c"
      },
      "execution_count": 84,
      "outputs": [
        {
          "output_type": "execute_result",
          "data": {
            "text/plain": [
              "5.8181925"
            ]
          },
          "metadata": {},
          "execution_count": 84
        }
      ]
    },
    {
      "cell_type": "code",
      "source": [
        "depth_1_wall[14:16] - min(depth_1_wall)"
      ],
      "metadata": {
        "colab": {
          "base_uri": "https://localhost:8080/"
        },
        "id": "JxsZKVdyTbvw",
        "outputId": "407702a4-6b82-4a96-8f8f-1163bac6fc18"
      },
      "execution_count": 85,
      "outputs": [
        {
          "output_type": "execute_result",
          "data": {
            "text/plain": [
              "array([0.00021839, 0.        ], dtype=float32)"
            ]
          },
          "metadata": {},
          "execution_count": 85
        }
      ]
    },
    {
      "cell_type": "code",
      "source": [
        "OA = depth_1_wall[0]\n",
        "OB = depth_1_wall[-1]\n",
        "OH = min(depth_1_wall)\n",
        "\n",
        "AH = (OA**2 - OH**2)**0.5\n",
        "BH = (OB**2 - OH**2)**0.5\n",
        "(AH+BH) / (2.05-0.4)"
      ],
      "metadata": {
        "colab": {
          "base_uri": "https://localhost:8080/"
        },
        "id": "7zduJYOUUqtN",
        "outputId": "27f2bbfc-9227-4467-82de-181777a9c444"
      },
      "execution_count": 86,
      "outputs": [
        {
          "output_type": "execute_result",
          "data": {
            "text/plain": [
              "0.9663019314943981"
            ]
          },
          "metadata": {},
          "execution_count": 86
        }
      ]
    },
    {
      "cell_type": "code",
      "source": [
        "center_1_wall = 15\n",
        "mera = (depth_1_wall[center_1_wall + 3] ** 2 - depth_1_wall[center_1_wall] ** 2) ** 0.5\n",
        "mera"
      ],
      "metadata": {
        "colab": {
          "base_uri": "https://localhost:8080/"
        },
        "id": "T58ljOoTW0ee",
        "outputId": "0ebc2548-a247-42b5-9f65-87f7e526bc0b"
      },
      "execution_count": 87,
      "outputs": [
        {
          "output_type": "execute_result",
          "data": {
            "text/plain": [
              "0.08708982050529868"
            ]
          },
          "metadata": {},
          "execution_count": 87
        }
      ]
    },
    {
      "cell_type": "code",
      "source": [
        "(depth_1_wall[center_1_wall - 4] ** 2 - depth_1_wall[center_1_wall] ** 2) ** 0.5"
      ],
      "metadata": {
        "colab": {
          "base_uri": "https://localhost:8080/"
        },
        "id": "XN2GtZU3rg5m",
        "outputId": "80637c2e-0e95-4c37-8e9d-75ff6e94814b"
      },
      "execution_count": 88,
      "outputs": [
        {
          "output_type": "execute_result",
          "data": {
            "text/plain": [
              "0.15898505189333115"
            ]
          },
          "metadata": {},
          "execution_count": 88
        }
      ]
    },
    {
      "cell_type": "code",
      "source": [
        "total_size = 0 + 4\n",
        "ind_size_higher = [[center_1_wall, 4]]\n",
        "ind = center_1_wall + 3\n",
        "prev = (depth_1_wall[center_1_wall + 3] ** 2 - depth_1_wall[center_1_wall] ** 2) ** 0.5\n",
        "while ind + 4 < len(depth_1_wall):\n",
        "    cur = (depth_1_wall[ind + 4] ** 2 - depth_1_wall[center_1_wall] ** 2) ** 0.5\n",
        "    next_size = np.around((cur - prev) / mera * 4, decimals = 0).astype(int)\n",
        "    ind_size_higher.append([ind, next_size])\n",
        "    total_size += next_size\n",
        "    ind += 4\n",
        "    prev = cur\n",
        "if ind != depth_1_wall.shape[0] - 1:\n",
        "    ind -= 4\n",
        "    total_size -= ind_size_higher[-1][1]\n",
        "    ind_size_higher.pop()\n",
        "    step = depth_1_wall.shape[0] - 1 - ind\n",
        "    cur =  ((depth_1_wall[ind + step] ** 2 - depth_1_wall[center_1_wall] ** 2) ** 0.5)\n",
        "    prev = ((depth_1_wall[ind] ** 2 - depth_1_wall[center_1_wall] ** 2) ** 0.5)\n",
        "    next_size = np.around((cur - prev) / mera * 4, decimals = 0).astype(int)\n",
        "    ind_size_higher.append([ind, next_size])\n",
        "    total_size += next_size\n",
        "    ind += step\n",
        "ind_size_higher.append([ind, 0])\n",
        "high_size = total_size\n",
        "#ind_size_higher"
      ],
      "metadata": {
        "id": "cMLoRd4xr6Ml"
      },
      "execution_count": 89,
      "outputs": []
    },
    {
      "cell_type": "code",
      "source": [
        "total_size = 4\n",
        "ind = center_1_wall - 4\n",
        "ind_size_lower = [[ind, 4]]\n",
        "ind -= 4\n",
        "prev = (depth_1_wall[center_1_wall + 3] ** 2 - depth_1_wall[center_1_wall] ** 2) ** 0.5\n",
        "while ind >= 0:\n",
        "    cur = ((depth_1_wall[ind] ** 2 - depth_1_wall[center_1_wall] ** 2) ** 0.5)\n",
        "    next_size = np.around((cur - prev) / mera * 4, decimals = 0).astype(int)\n",
        "    ind_size_lower.insert(0, [ind, next_size])\n",
        "    total_size += next_size\n",
        "    ind -= 4\n",
        "    prev = cur\n",
        "if ind != 0:\n",
        "    ind += 4 * 2\n",
        "    total_size -= ind_size_lower[0][1]\n",
        "    ind_size_lower.pop(0)\n",
        "    step = ind\n",
        "    prev = ((depth_1_wall[ind] ** 2 - depth_1_wall[center_1_wall] ** 2) ** 0.5)\n",
        "    cur = ((depth_1_wall[0] ** 2 - depth_1_wall[center_1_wall] ** 2) ** 0.5)\n",
        "    next_size = np.around((cur - prev)/ mera * 4, decimals = 0).astype(int)\n",
        "    ind_size_lower.insert(0, [0, next_size])\n",
        "    total_size += next_size\n",
        "    ind = 0\n",
        "total_size += high_size\n",
        "#ind_size_lower"
      ],
      "metadata": {
        "id": "jhAii3VAr6Mu"
      },
      "execution_count": 90,
      "outputs": []
    },
    {
      "cell_type": "code",
      "source": [],
      "metadata": {
        "id": "DaIGY2UgsXNg"
      },
      "execution_count": 90,
      "outputs": []
    },
    {
      "cell_type": "code",
      "source": [
        "ind_size = ind_size_lower + ind_size_higher\n",
        "new_res = np.zeros((result.shape[0], total_size, result.shape[2]), dtype=np.uint8)\n",
        "#new_res.shape"
      ],
      "metadata": {
        "id": "mTm0Xgikr6Mu"
      },
      "execution_count": 91,
      "outputs": []
    },
    {
      "cell_type": "code",
      "source": [
        "height = result.shape[0]\n",
        "xx = 0\n",
        "for j in range(len(ind_size) - 1):\n",
        "    width = ind_size[j + 1][0] - ind_size[j][0]\n",
        "    x1 = ind_size[j][0]\n",
        "    x2 = x1 + width - 1\n",
        "\n",
        "    yy = 255\n",
        "    point1 = [x1, 0]\n",
        "    point2 = [x2, 0]\n",
        "    point3 = [x2, height - 1]\n",
        "    point4 = [x1, height - 1]\n",
        "\n",
        "\n",
        "    src_points = np.array([point1, point2, point3, point4], dtype=np.float32)\n",
        "    dst_points = np.array([[0, 0], [ind_size[j][1] - 1, 0], [ind_size[j][1] - 1, height - 1], [0, height - 1]], dtype=np.float32)\n",
        "\n",
        "    # Получите матрицу преобразования\n",
        "    perspective_matrix = cv2.getPerspectiveTransform(src_points, dst_points)\n",
        "\n",
        "    # Примените преобразование\n",
        "    result_rectangular = cv2.warpPerspective(result, perspective_matrix, (ind_size[j][1], height))\n",
        "\n",
        "    for i in range(len(result_rectangular)):\n",
        "        for k in range(ind_size[j][1]):\n",
        "            new_res[i][xx + k] = result_rectangular[i][k]\n",
        "    xx += ind_size[j][1]"
      ],
      "metadata": {
        "id": "aXlhXKcQr6Mu"
      },
      "execution_count": 92,
      "outputs": []
    },
    {
      "cell_type": "code",
      "source": [
        "new_width = 165\n",
        "new_height = 250\n",
        "\n",
        "# Сжимаем изображение до нового размера\n",
        "resized_image = cv2.resize(new_res, (new_width, new_height))\n",
        "# получаем итоговое изображение с поправкой на соотношение сторон 1650x2500 мм\n",
        "cv2.imwrite(\"/content/5_proj.jpg\", resized_image)"
      ],
      "metadata": {
        "colab": {
          "base_uri": "https://localhost:8080/"
        },
        "outputId": "a840639a-55d2-48e0-93f7-cc84aaaac19b",
        "id": "3X1dU5ahr6Mv"
      },
      "execution_count": 93,
      "outputs": [
        {
          "output_type": "execute_result",
          "data": {
            "text/plain": [
              "True"
            ]
          },
          "metadata": {},
          "execution_count": 93
        }
      ]
    },
    {
      "cell_type": "code",
      "source": [],
      "metadata": {
        "id": "Meh2zYkI5nMW"
      },
      "execution_count": 93,
      "outputs": []
    },
    {
      "cell_type": "code",
      "source": [],
      "metadata": {
        "id": "5d60RgM8sEkb"
      },
      "execution_count": 93,
      "outputs": []
    }
  ]
}