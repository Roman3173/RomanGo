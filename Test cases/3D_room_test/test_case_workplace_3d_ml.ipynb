{
  "nbformat": 4,
  "nbformat_minor": 0,
  "metadata": {
    "colab": {
      "provenance": [],
      "authorship_tag": "ABX9TyNdXXhv2DZgMi5mQX8bxliZ",
      "include_colab_link": true
    },
    "kernelspec": {
      "name": "python3",
      "display_name": "Python 3"
    },
    "language_info": {
      "name": "python"
    }
  },
  "cells": [
    {
      "cell_type": "markdown",
      "metadata": {
        "id": "view-in-github",
        "colab_type": "text"
      },
      "source": [
        "<a href=\"https://colab.research.google.com/github/Roman3173/RomanGo/blob/main/Test%20cases/3D_room_test/test_case_workplace_3d_ml.ipynb\" target=\"_parent\"><img src=\"https://colab.research.google.com/assets/colab-badge.svg\" alt=\"Open In Colab\"/></a>"
      ]
    },
    {
      "cell_type": "code",
      "execution_count": null,
      "metadata": {
        "id": "51Ol4Sj6HczH"
      },
      "outputs": [],
      "source": [
        "import cv2\n",
        "import numpy as np\n",
        "import json"
      ]
    },
    {
      "cell_type": "code",
      "source": [
        "# image_1024_aligned_rgb.png\n",
        "!gdown 1MEa-_oowpOuP2wa7zEmSM7uYxcgNAXxt"
      ],
      "metadata": {
        "colab": {
          "base_uri": "https://localhost:8080/"
        },
        "id": "AiS8mOIFJDB0",
        "outputId": "c41fc7de-de64-4f92-bbb2-3abf0ca5cf14"
      },
      "execution_count": null,
      "outputs": [
        {
          "output_type": "stream",
          "name": "stdout",
          "text": [
            "Downloading...\n",
            "From: https://drive.google.com/uc?id=1MEa-_oowpOuP2wa7zEmSM7uYxcgNAXxt\n",
            "To: /content/image_1024_aligned_rgb.png\n",
            "\r  0% 0.00/571k [00:00<?, ?B/s]\r100% 571k/571k [00:00<00:00, 117MB/s]\n"
          ]
        }
      ]
    },
    {
      "cell_type": "code",
      "source": [
        "# test_object_lu.json\n",
        "!gdown 15qyneDxjA30lOdrZOHX80FrQVWSKIpnJ"
      ],
      "metadata": {
        "colab": {
          "base_uri": "https://localhost:8080/"
        },
        "id": "ljfZ77RNJDE4",
        "outputId": "17172f62-98a4-4e0d-a4eb-0be29622e192"
      },
      "execution_count": null,
      "outputs": [
        {
          "output_type": "stream",
          "name": "stdout",
          "text": [
            "Downloading...\n",
            "From: https://drive.google.com/uc?id=15qyneDxjA30lOdrZOHX80FrQVWSKIpnJ\n",
            "To: /content/test_object_lu.json\n",
            "\r  0% 0.00/194 [00:00<?, ?B/s]\r100% 194/194 [00:00<00:00, 651kB/s]\n"
          ]
        }
      ]
    },
    {
      "cell_type": "code",
      "source": [
        "# floor_plan_test.jpg\n",
        "!gdown 1vlmfA20KIyGlHmhIoSzus4NFIAuoRFb9"
      ],
      "metadata": {
        "colab": {
          "base_uri": "https://localhost:8080/"
        },
        "id": "11LTrQL_M9-k",
        "outputId": "fc4e38f4-0fa4-4d74-f9f8-ae80c2ff9cac"
      },
      "execution_count": null,
      "outputs": [
        {
          "output_type": "stream",
          "name": "stdout",
          "text": [
            "Downloading...\n",
            "From: https://drive.google.com/uc?id=1vlmfA20KIyGlHmhIoSzus4NFIAuoRFb9\n",
            "To: /content/floor_plan_test.jpg\n",
            "\r  0% 0.00/17.8k [00:00<?, ?B/s]\r100% 17.8k/17.8k [00:00<00:00, 28.8MB/s]\n"
          ]
        }
      ]
    },
    {
      "cell_type": "code",
      "source": [
        "# v_corners.npy\n",
        "!gdown 18cKH92wswG-_Hk-uZYqJmYeem6GMOafb"
      ],
      "metadata": {
        "colab": {
          "base_uri": "https://localhost:8080/"
        },
        "id": "A06bxy4xNiIR",
        "outputId": "6cde058f-32e6-4705-8b88-2768f087ed4f"
      },
      "execution_count": null,
      "outputs": [
        {
          "output_type": "stream",
          "name": "stdout",
          "text": [
            "Downloading...\n",
            "From: https://drive.google.com/uc?id=18cKH92wswG-_Hk-uZYqJmYeem6GMOafb\n",
            "To: /content/v_corners.npy\n",
            "\r  0% 0.00/224 [00:00<?, ?B/s]\r100% 224/224 [00:00<00:00, 538kB/s]\n"
          ]
        }
      ]
    },
    {
      "cell_type": "code",
      "source": [
        "# h_corners.npy\n",
        "!gdown 1VPSbwA8Y8roX7-nMnBuwtKRCGihRLhAY"
      ],
      "metadata": {
        "colab": {
          "base_uri": "https://localhost:8080/"
        },
        "id": "S-j95NBCP7si",
        "outputId": "52dfdd2b-b562-4e82-f8e8-befd554fb134"
      },
      "execution_count": null,
      "outputs": [
        {
          "output_type": "stream",
          "name": "stdout",
          "text": [
            "Downloading...\n",
            "From: https://drive.google.com/uc?id=1VPSbwA8Y8roX7-nMnBuwtKRCGihRLhAY\n",
            "To: /content/h_corners.npy\n",
            "\r  0% 0.00/8.32k [00:00<?, ?B/s]\r100% 8.32k/8.32k [00:00<00:00, 15.9MB/s]\n"
          ]
        }
      ]
    },
    {
      "cell_type": "code",
      "source": [
        "# /content/depth_map.npy\n",
        "!gdown 1x6YD2uk-ivS9uhosIkY75-k2hDVIhte6"
      ],
      "metadata": {
        "colab": {
          "base_uri": "https://localhost:8080/"
        },
        "id": "XjQYq6FiQs_y",
        "outputId": "1ccb9e1c-5e0f-4ede-e050-738ec52846f5"
      },
      "execution_count": null,
      "outputs": [
        {
          "output_type": "stream",
          "name": "stdout",
          "text": [
            "Downloading...\n",
            "From: https://drive.google.com/uc?id=1x6YD2uk-ivS9uhosIkY75-k2hDVIhte6\n",
            "To: /content/depth_map.npy\n",
            "\r  0% 0.00/2.10M [00:00<?, ?B/s]\r100% 2.10M/2.10M [00:00<00:00, 48.0MB/s]\n"
          ]
        }
      ]
    },
    {
      "cell_type": "code",
      "source": [
        "panorama_image_path = \"/content/image_1024_aligned_rgb.png\"\n",
        "panorama_image = cv2.imread(panorama_image_path, cv2.IMREAD_COLOR)"
      ],
      "metadata": {
        "id": "tVHGkoYpHqp3"
      },
      "execution_count": null,
      "outputs": []
    },
    {
      "cell_type": "code",
      "source": [
        "floor_plan_path = \"/content/floor_plan_test.jpg\"\n",
        "floor_plan = cv2.imread(panorama_image_path)"
      ],
      "metadata": {
        "id": "gdQ29j4WIhFy"
      },
      "execution_count": null,
      "outputs": []
    },
    {
      "cell_type": "code",
      "source": [
        "json_path = \"/content/test_object_lu.json\"\n",
        "with open(json_path, 'r') as json_file:\n",
        "    walls_data = json.load(json_file)\n",
        "walls_data"
      ],
      "metadata": {
        "colab": {
          "base_uri": "https://localhost:8080/"
        },
        "id": "Llrai7G1IOn4",
        "outputId": "151a9e79-73e8-455f-deb3-4f34ee17a9a3"
      },
      "execution_count": null,
      "outputs": [
        {
          "output_type": "execute_result",
          "data": {
            "text/plain": [
              "{'room_id': 0,\n",
              " 'walls': {'0': [0, 0, 0, 2050],\n",
              "  '1': [0, 0, 1640, 0],\n",
              "  '2': [1640, 0, 1640, 400],\n",
              "  '3': [1640, 400, 6020, 400],\n",
              "  '4': [6020, 400, 6020, 2050],\n",
              "  '5': [0, 2050, 6020, 2050]}}"
            ]
          },
          "metadata": {},
          "execution_count": 10
        }
      ]
    },
    {
      "cell_type": "code",
      "source": [
        "v_corners_path = \"/content/v_corners.npy\"\n",
        "vertical_corners = np.load(v_corners_path)\n",
        "vertical_corners"
      ],
      "metadata": {
        "colab": {
          "base_uri": "https://localhost:8080/"
        },
        "id": "FqW9oooSNPlr",
        "outputId": "2f64d4dd-ca32-4550-fe87-44a8d3f45110"
      },
      "execution_count": null,
      "outputs": [
        {
          "output_type": "execute_result",
          "data": {
            "text/plain": [
              "array([[  30.914364,  222.41164 ],\n",
              "       [  30.914364,  298.64883 ],\n",
              "       [ 363.15613 ,  140.81924 ],\n",
              "       [ 363.15613 ,  392.54047 ],\n",
              "       [ 672.78357 ,  149.66058 ],\n",
              "       [ 672.78357 ,  383.4991  ],\n",
              "       [ 801.5895  ,  137.09825 ],\n",
              "       [ 801.5895  ,  396.26495 ],\n",
              "       [ 845.40314 ,   76.09795 ],\n",
              "       [ 845.40314 ,  451.50623 ],\n",
              "       [1008.1279  ,  221.95033 ],\n",
              "       [1008.1279  ,  299.23853 ]], dtype=float32)"
            ]
          },
          "metadata": {},
          "execution_count": 11
        }
      ]
    },
    {
      "cell_type": "code",
      "source": [
        "h_corners_path = \"/content/h_corners.npy\"\n",
        "horizontal_corners = np.load(h_corners_path)\n",
        "horizontal_corners"
      ],
      "metadata": {
        "colab": {
          "base_uri": "https://localhost:8080/"
        },
        "id": "Jr9cW0YCOGRB",
        "outputId": "c0534bce-070e-4afc-cafa-49bfa59d9bf7"
      },
      "execution_count": null,
      "outputs": [
        {
          "output_type": "execute_result",
          "data": {
            "text/plain": [
              "array([[221.67708, 221.43863, 221.38431, ..., 222.38773, 223.78665,\n",
              "        223.0257 ],\n",
              "       [299.86584, 298.79175, 299.72705, ..., 298.76703, 297.46896,\n",
              "        299.3693 ]], dtype=float32)"
            ]
          },
          "metadata": {},
          "execution_count": 12
        }
      ]
    },
    {
      "cell_type": "code",
      "source": [
        "horizontal_corners.shape"
      ],
      "metadata": {
        "colab": {
          "base_uri": "https://localhost:8080/"
        },
        "id": "menkRNwrlWaw",
        "outputId": "3017f8ff-6749-4c01-9c17-1e062af62bd9"
      },
      "execution_count": null,
      "outputs": [
        {
          "output_type": "execute_result",
          "data": {
            "text/plain": [
              "(2, 1024)"
            ]
          },
          "metadata": {},
          "execution_count": 13
        }
      ]
    },
    {
      "cell_type": "code",
      "source": [
        "depth_map_path = \"/content/depth_map.npy\"\n",
        "depth_map = np.load(depth_map_path)\n",
        "depth_map"
      ],
      "metadata": {
        "colab": {
          "base_uri": "https://localhost:8080/"
        },
        "id": "G4br623uQXgL",
        "outputId": "bb11e70d-1c04-4793-bef7-f5682e529375"
      },
      "execution_count": null,
      "outputs": [
        {
          "output_type": "execute_result",
          "data": {
            "text/plain": [
              "array([[1.2148892, 1.2148892, 1.2148892, ..., 1.2148892, 1.2148892,\n",
              "        1.2148892],\n",
              "       [1.2149348, 1.2149348, 1.2149348, ..., 1.2149348, 1.2149348,\n",
              "        1.2149348],\n",
              "       [1.2150264, 1.2150264, 1.2150264, ..., 1.2150264, 1.2150264,\n",
              "        1.2150264],\n",
              "       ...,\n",
              "       [1.6001883, 1.6001883, 1.6001883, ..., 1.6001883, 1.6001883,\n",
              "        1.6001883],\n",
              "       [1.6000677, 1.6000677, 1.6000677, ..., 1.6000677, 1.6000677,\n",
              "        1.6000677],\n",
              "       [1.6000075, 1.6000075, 1.6000075, ..., 1.6000075, 1.6000075,\n",
              "        1.6000075]], dtype=float32)"
            ]
          },
          "metadata": {},
          "execution_count": 14
        }
      ]
    },
    {
      "cell_type": "code",
      "source": [
        "panorama_image.shape"
      ],
      "metadata": {
        "colab": {
          "base_uri": "https://localhost:8080/"
        },
        "id": "BOhMS_tGtV9a",
        "outputId": "5c288e1d-7ced-4a97-a849-d329be746bb8"
      },
      "execution_count": null,
      "outputs": [
        {
          "output_type": "execute_result",
          "data": {
            "text/plain": [
              "(512, 1024, 3)"
            ]
          },
          "metadata": {},
          "execution_count": 15
        }
      ]
    },
    {
      "cell_type": "markdown",
      "source": [
        "# Проверка полученных данных. Построение панорамы с разметкой углов."
      ],
      "metadata": {
        "id": "ayc5JPSYUdQ7"
      }
    },
    {
      "cell_type": "code",
      "source": [
        "# Загрузка изображения\n",
        "panorama_image_path = \"/content/image_1024_aligned_rgb.png\"\n",
        "p_i = cv2.imread(panorama_image_path, cv2.IMREAD_COLOR)\n",
        "\n",
        "# Преобразование координат в целые числа (пиксели)\n",
        "vertical_corners = np.around(vertical_corners, decimals = 0).astype(int)\n",
        "\n",
        "# Нанесение точек на изображение\n",
        "for point in vertical_corners:\n",
        "    x, y = point\n",
        "    size = 10  # Размер крестика\n",
        "    color = (0, 165, 255)  # Оранжевый цвет в формате BGR\n",
        "    thickness = 1  # Толщина линии\n",
        "    # Диагональные крестики\n",
        "    cv2.line(p_i, (x - size, y - size), (x + size, y + size), color, thickness)\n",
        "    cv2.line(p_i, (x - size, y + size), (x + size, y - size), color, thickness)\n",
        "\n",
        "# Сохранение изображения с точками\n",
        "#cv2.imwrite(\"/content/image_with_points.jpg\", p_i)"
      ],
      "metadata": {
        "id": "MP-X49nBCu15"
      },
      "execution_count": null,
      "outputs": []
    },
    {
      "cell_type": "code",
      "source": [
        "for i in range(0, len(vertical_corners), 2):\n",
        "    x1, y1 = vertical_corners[i][0], vertical_corners[i][1]\n",
        "    x2, y2 = vertical_corners[i + 1][0], vertical_corners[i + 1][1]\n",
        "    color = (255, 165, 0)\n",
        "    thickness = 1  # Толщина линии\n",
        "    # Диагональные крестики\n",
        "    cv2.line(p_i, (x1, y1), (x2, y2), color, thickness)"
      ],
      "metadata": {
        "id": "LCp4o7Oz96TP"
      },
      "execution_count": null,
      "outputs": []
    },
    {
      "cell_type": "code",
      "source": [
        "# Преобразование координат в целые числа (пиксели)\n",
        "horizontal_corners = np.around(horizontal_corners, decimals = 0).astype(int)\n",
        "\n",
        "# Нанесение точек на изображение\n",
        "for i in range(len(horizontal_corners)):\n",
        "    for j in range(1, len(horizontal_corners[0])):\n",
        "        x1, y1 = j - 1, horizontal_corners[i][j - 1]\n",
        "        x2, y2 = j, horizontal_corners[i][j]\n",
        "        color = (255, 165, 0)\n",
        "        thickness = 1  # Толщина линии\n",
        "        # Диагональные крестики\n",
        "        cv2.line(p_i, (x1, y1), (x2, y2), color, thickness)\n",
        "\n",
        "# Сохранение изображения с точками\n",
        "cv2.imwrite(\"/content/image_with_points_and_lines.jpg\", p_i)"
      ],
      "metadata": {
        "id": "QrmMfrseuMXk",
        "colab": {
          "base_uri": "https://localhost:8080/"
        },
        "outputId": "0c7faaaa-fccb-46ce-82d7-fb4801fa2f16"
      },
      "execution_count": null,
      "outputs": [
        {
          "output_type": "execute_result",
          "data": {
            "text/plain": [
              "True"
            ]
          },
          "metadata": {},
          "execution_count": 18
        }
      ]
    },
    {
      "cell_type": "markdown",
      "source": [
        "# Поиск высоты в углах помешения\n",
        "По формуле медианы: зная 2 стороны треугольника и медиану, можно найти 3-ю сторону."
      ],
      "metadata": {
        "id": "4HMyBy_WUpHO"
      }
    },
    {
      "cell_type": "code",
      "source": [
        "x1 = vertical_corners[0][0]\n",
        "y1 = vertical_corners[0][1]\n",
        "y2 = vertical_corners[1][1]\n",
        "ym = (y2 + y1) // 2\n",
        "[x1, [y1, ym, y2]]"
      ],
      "metadata": {
        "colab": {
          "base_uri": "https://localhost:8080/"
        },
        "id": "nWEcuqjuivkD",
        "outputId": "8bf7a7e8-6534-4147-e36d-7f2e4a6ea439"
      },
      "execution_count": null,
      "outputs": [
        {
          "output_type": "execute_result",
          "data": {
            "text/plain": [
              "[31, [222, 260, 299]]"
            ]
          },
          "metadata": {},
          "execution_count": 19
        }
      ]
    },
    {
      "cell_type": "code",
      "source": [
        "AB = depth_map[y1][x1]\n",
        "AC = depth_map[y2][x1]\n",
        "AM = depth_map[ym][x1]"
      ],
      "metadata": {
        "id": "yuzEblgh3GcC"
      },
      "execution_count": null,
      "outputs": []
    },
    {
      "cell_type": "code",
      "source": [
        "[AB, AM, AC]"
      ],
      "metadata": {
        "colab": {
          "base_uri": "https://localhost:8080/"
        },
        "id": "WYJJ_GQWH7v9",
        "outputId": "53adaf1d-af25-413b-b666-6c034f1135d2"
      },
      "execution_count": null,
      "outputs": [
        {
          "output_type": "execute_result",
          "data": {
            "text/plain": [
              "[5.952132, 5.887788, 6.066243]"
            ]
          },
          "metadata": {},
          "execution_count": 21
        }
      ]
    },
    {
      "cell_type": "code",
      "source": [
        "h1 = (2 * (AB ** 2 + AC ** 2) - 4 * AM ** 2) ** 0.5"
      ],
      "metadata": {
        "id": "TKoA2BORH_uN"
      },
      "execution_count": null,
      "outputs": []
    },
    {
      "cell_type": "code",
      "source": [
        "h1"
      ],
      "metadata": {
        "colab": {
          "base_uri": "https://localhost:8080/"
        },
        "id": "2RK8RDVCI8f9",
        "outputId": "76a1efe6-5f70-47db-86fd-8f451efcf5b6"
      },
      "execution_count": null,
      "outputs": [
        {
          "output_type": "execute_result",
          "data": {
            "text/plain": [
              "2.4062807157265764"
            ]
          },
          "metadata": {},
          "execution_count": 23
        }
      ]
    },
    {
      "cell_type": "code",
      "source": [
        "v_corners_path = \"/content/v_corners.npy\"\n",
        "vertical_corners = np.load(v_corners_path)\n",
        "vertical_corners = np.around(vertical_corners, decimals = 0).astype(int)\n",
        "high_corn = [0] * 6\n",
        "for i in range(0, len(vertical_corners), 2):\n",
        "    x1 = vertical_corners[i][0]\n",
        "    y1 = vertical_corners[i][1]\n",
        "    y2 = vertical_corners[i+1][1]\n",
        "    yh = 255\n",
        "    ym = (y2 + y1) // 2\n",
        "    AB = depth_map[y1][x1]\n",
        "    AC = depth_map[y2][x1]\n",
        "    AH = depth_map[yh][x1]\n",
        "    AM = depth_map[ym][x1]\n",
        "    #high_corn[i // 2] = (2 * (AB ** 2 + AC ** 2) - 4 * AM ** 2) ** 0.5\n",
        "    high_corn[i // 2] = ((AB ** 2 - AH ** 2) ** 0.5 + (AC ** 2 - AH ** 2) ** 0.5)\n",
        "\n",
        "high_corn"
      ],
      "metadata": {
        "colab": {
          "base_uri": "https://localhost:8080/"
        },
        "id": "QsFE2OYKI85Q",
        "outputId": "6e4f72ea-8934-4cb9-ab34-641d6d3fd63d"
      },
      "execution_count": null,
      "outputs": [
        {
          "output_type": "execute_result",
          "data": {
            "text/plain": [
              "[2.3571264241401773,\n",
              " 2.804948554516445,\n",
              " 2.797412369415208,\n",
              " 2.778131745762649,\n",
              " 2.8096198494045748,\n",
              " 2.7805755030831425]"
            ]
          },
          "metadata": {},
          "execution_count": 24
        }
      ]
    },
    {
      "cell_type": "code",
      "source": [],
      "metadata": {
        "id": "FQZq1Y0pEoi1"
      },
      "execution_count": null,
      "outputs": []
    },
    {
      "cell_type": "code",
      "source": [
        "x_min = vertical_corners[2][0]\n",
        "x_max = vertical_corners[4][0]\n",
        "depth_1_wall = depth_map[255][x_min:x_max]\n",
        "depth_1_wall[148:150] - min(depth_1_wall)\n",
        "center_1_wall = 149\n",
        "HH = (2 * depth_1_wall[0]**2 + 2 * depth_1_wall[-1]**2 - 4 * depth_1_wall[center_1_wall] ** 2) ** 0.5\n",
        "HH / 2.05"
      ],
      "metadata": {
        "colab": {
          "base_uri": "https://localhost:8080/"
        },
        "id": "1m9GfyDItIaI",
        "outputId": "49cf0ee8-700c-4052-f6ac-bb8e82bf2094"
      },
      "execution_count": null,
      "outputs": [
        {
          "output_type": "execute_result",
          "data": {
            "text/plain": [
              "1.200122789218613"
            ]
          },
          "metadata": {},
          "execution_count": 25
        }
      ]
    },
    {
      "cell_type": "markdown",
      "source": [
        "Медианы всех углов, кроме первого, ~= 2.8, из друх рассчётов предположу, что 2.8 метра."
      ],
      "metadata": {
        "id": "t-7FBO2RVByB"
      }
    },
    {
      "cell_type": "code",
      "source": [
        "wall_height = 2.8 / 1.2"
      ],
      "metadata": {
        "id": "Il-a80CfvVw1"
      },
      "execution_count": null,
      "outputs": []
    },
    {
      "cell_type": "markdown",
      "source": [
        "# Попытка применить Афинное преобразование."
      ],
      "metadata": {
        "id": "uhHUQ_h4VUJ_"
      }
    },
    {
      "cell_type": "code",
      "source": [
        "panorama_image_path = \"/content/image_1024_aligned_rgb.png\"\n",
        "new_pan = cv2.imread(panorama_image_path, cv2.IMREAD_COLOR)\n",
        "x1 = vertical_corners[0][0]\n",
        "x2 = vertical_corners[2][0]\n",
        "first_point = []\n",
        "mask = np.zeros_like(new_pan)\n",
        "for i in range(x1, x2 + 1):\n",
        "    mask[horizontal_corners[0][i]: horizontal_corners[1][i], i] = 1\n",
        "\n",
        "# Примените маску к панораме\n",
        "result = new_pan * mask\n",
        "\n",
        "    # Сохраните результат\n",
        "cv2.imwrite(\"/content/segmented.jpg\", result)"
      ],
      "metadata": {
        "id": "zyNnG5b_LV8t",
        "colab": {
          "base_uri": "https://localhost:8080/"
        },
        "outputId": "4a296547-84f1-4092-d158-177b0f14be2a"
      },
      "execution_count": null,
      "outputs": [
        {
          "output_type": "execute_result",
          "data": {
            "text/plain": [
              "True"
            ]
          },
          "metadata": {},
          "execution_count": 27
        }
      ]
    },
    {
      "cell_type": "code",
      "source": [
        "panorama_image_path = \"/content/image_1024_aligned_rgb.png\"\n",
        "new_pan = cv2.imread(panorama_image_path, cv2.IMREAD_COLOR)\n",
        "x1 = vertical_corners[0][0]\n",
        "x2 = vertical_corners[2][0]\n",
        "\n",
        "mask = np.zeros_like(new_pan)\n",
        "for i in range(x1, x2 + 1):\n",
        "    mask[horizontal_corners[0][i]: horizontal_corners[1][i], i] = 1\n",
        "\n",
        "point1 = [x1, horizontal_corners[0][x1]]\n",
        "point4 = [x1, horizontal_corners[1][x1]]\n",
        "point2 = [x2, horizontal_corners[0][x2]]\n",
        "point3 = [x2, horizontal_corners[1][x2]]\n",
        "\n",
        "# Примените маску к панораме\n",
        "result = new_pan * mask\n",
        "wall_width = 602\n",
        "wall_height = 233\n",
        "\n",
        "src_points = np.array([point1, point2, point3, point4], dtype=np.float32)\n",
        "dst_points = np.array([[0, 0], [wall_width, 0], [wall_width, wall_height], [0, wall_height]], dtype=np.float32)\n",
        "\n",
        "# Получите матрицу преобразования\n",
        "perspective_matrix = cv2.getAffineTransform(src_points[:3], dst_points[:3])\n",
        "\n",
        "# Примените преобразование\n",
        "result_rectangular = cv2.warpAffine(result, perspective_matrix, (wall_width, wall_height), flags = cv2.INTER_NEAREST)\n",
        "# Сохраните результат\n",
        "cv2.imwrite(\"/content/rectangular_result.jpg\", result_rectangular)"
      ],
      "metadata": {
        "colab": {
          "base_uri": "https://localhost:8080/"
        },
        "id": "4LiwHZTnpNj6",
        "outputId": "ed9ab063-b558-4aba-d836-bfa4f4295de2"
      },
      "execution_count": null,
      "outputs": [
        {
          "output_type": "execute_result",
          "data": {
            "text/plain": [
              "True"
            ]
          },
          "metadata": {},
          "execution_count": 28
        }
      ]
    },
    {
      "cell_type": "markdown",
      "source": [
        "# Попытка влоб обратить fisheye эффект (неудачно)"
      ],
      "metadata": {
        "id": "fjOYL6p7VjIB"
      }
    },
    {
      "cell_type": "code",
      "source": [
        "perspective_matrix"
      ],
      "metadata": {
        "colab": {
          "base_uri": "https://localhost:8080/"
        },
        "id": "CK2BcILLratR",
        "outputId": "f4a89338-5b00-4256-c161-071c56a417da"
      },
      "execution_count": null,
      "outputs": [
        {
          "output_type": "execute_result",
          "data": {
            "text/plain": [
              "array([[   1.81325301,    0.        ,  -56.21084337],\n",
              "       [   0.22746321,    0.92094862, -211.50195247]])"
            ]
          },
          "metadata": {},
          "execution_count": 29
        }
      ]
    },
    {
      "cell_type": "code",
      "source": [
        "dst_points"
      ],
      "metadata": {
        "colab": {
          "base_uri": "https://localhost:8080/"
        },
        "id": "s6HNTc5crhvo",
        "outputId": "3812afb2-7a86-4c7a-dd80-28a665a39020"
      },
      "execution_count": null,
      "outputs": [
        {
          "output_type": "execute_result",
          "data": {
            "text/plain": [
              "array([[  0.,   0.],\n",
              "       [602.,   0.],\n",
              "       [602., 233.],\n",
              "       [  0., 233.]], dtype=float32)"
            ]
          },
          "metadata": {},
          "execution_count": 30
        }
      ]
    },
    {
      "cell_type": "code",
      "source": [
        "horizontal_corners[0][x1]\n",
        "depth_map"
      ],
      "metadata": {
        "colab": {
          "base_uri": "https://localhost:8080/"
        },
        "id": "uQosiWVfsMyS",
        "outputId": "01dedc81-2edc-4fc0-b016-75ab084599f9"
      },
      "execution_count": null,
      "outputs": [
        {
          "output_type": "execute_result",
          "data": {
            "text/plain": [
              "array([[1.2148892, 1.2148892, 1.2148892, ..., 1.2148892, 1.2148892,\n",
              "        1.2148892],\n",
              "       [1.2149348, 1.2149348, 1.2149348, ..., 1.2149348, 1.2149348,\n",
              "        1.2149348],\n",
              "       [1.2150264, 1.2150264, 1.2150264, ..., 1.2150264, 1.2150264,\n",
              "        1.2150264],\n",
              "       ...,\n",
              "       [1.6001883, 1.6001883, 1.6001883, ..., 1.6001883, 1.6001883,\n",
              "        1.6001883],\n",
              "       [1.6000677, 1.6000677, 1.6000677, ..., 1.6000677, 1.6000677,\n",
              "        1.6000677],\n",
              "       [1.6000075, 1.6000075, 1.6000075, ..., 1.6000075, 1.6000075,\n",
              "        1.6000075]], dtype=float32)"
            ]
          },
          "metadata": {},
          "execution_count": 31
        }
      ]
    },
    {
      "cell_type": "code",
      "source": [
        "# Параметры камеры (пример значения, замените их на реальные)\n",
        "focal_length = 500\n",
        "principal_point = (panorama_image.shape[1] / 2, panorama_image.shape[0] / 2)\n",
        "\n",
        "# Создайте матрицу камеры\n",
        "camera_matrix = np.array([[focal_length, 0, principal_point[0]],\n",
        "                          [0, focal_length, principal_point[1]],\n",
        "                          [0, 0, 1]], dtype=np.float32)\n",
        "\n",
        "# Используйте undistort для коррекции искажений\n",
        "undistorted_image = cv2.undistort(panorama_image, camera_matrix, distCoeffs=None)\n",
        "cv2.find4QuadCornerSubpix\n",
        "# Сохраните результат\n",
        "cv2.imwrite(\"/content/undistorted_panorama_image.jpg\", undistorted_image)\n"
      ],
      "metadata": {
        "colab": {
          "base_uri": "https://localhost:8080/"
        },
        "id": "Pxpvz3hzxDOA",
        "outputId": "f1df3202-2e40-4651-e718-fe2ce010808e"
      },
      "execution_count": null,
      "outputs": [
        {
          "output_type": "execute_result",
          "data": {
            "text/plain": [
              "True"
            ]
          },
          "metadata": {},
          "execution_count": 32
        }
      ]
    },
    {
      "cell_type": "code",
      "source": [
        "#почему-то качает не последнюю версию.\n",
        "!pip install scikit-image"
      ],
      "metadata": {
        "colab": {
          "base_uri": "https://localhost:8080/"
        },
        "id": "mKelEC-O76XH",
        "outputId": "483b72a6-af4b-4c43-e8e7-c7c924aa15ad"
      },
      "execution_count": null,
      "outputs": [
        {
          "output_type": "stream",
          "name": "stdout",
          "text": [
            "Requirement already satisfied: scikit-image in /usr/local/lib/python3.10/dist-packages (0.19.3)\n",
            "Requirement already satisfied: numpy>=1.17.0 in /usr/local/lib/python3.10/dist-packages (from scikit-image) (1.23.5)\n",
            "Requirement already satisfied: scipy>=1.4.1 in /usr/local/lib/python3.10/dist-packages (from scikit-image) (1.11.4)\n",
            "Requirement already satisfied: networkx>=2.2 in /usr/local/lib/python3.10/dist-packages (from scikit-image) (3.2.1)\n",
            "Requirement already satisfied: pillow!=7.1.0,!=7.1.1,!=8.3.0,>=6.1.0 in /usr/local/lib/python3.10/dist-packages (from scikit-image) (9.4.0)\n",
            "Requirement already satisfied: imageio>=2.4.1 in /usr/local/lib/python3.10/dist-packages (from scikit-image) (2.31.6)\n",
            "Requirement already satisfied: tifffile>=2019.7.26 in /usr/local/lib/python3.10/dist-packages (from scikit-image) (2024.1.30)\n",
            "Requirement already satisfied: PyWavelets>=1.1.1 in /usr/local/lib/python3.10/dist-packages (from scikit-image) (1.5.0)\n",
            "Requirement already satisfied: packaging>=20.0 in /usr/local/lib/python3.10/dist-packages (from scikit-image) (23.2)\n"
          ]
        }
      ]
    },
    {
      "cell_type": "code",
      "source": [
        "!pip install --upgrade scikit-image"
      ],
      "metadata": {
        "colab": {
          "base_uri": "https://localhost:8080/"
        },
        "id": "v8Y7Njk33ijy",
        "outputId": "452e652f-e069-4347-a8ff-064cb048ce53"
      },
      "execution_count": null,
      "outputs": [
        {
          "output_type": "stream",
          "name": "stdout",
          "text": [
            "Requirement already satisfied: scikit-image in /usr/local/lib/python3.10/dist-packages (0.19.3)\n",
            "Collecting scikit-image\n",
            "  Downloading scikit_image-0.22.0-cp310-cp310-manylinux_2_17_x86_64.manylinux2014_x86_64.whl (14.7 MB)\n",
            "\u001b[2K     \u001b[90m━━━━━━━━━━━━━━━━━━━━━━━━━━━━━━━━━━━━━━━━\u001b[0m \u001b[32m14.7/14.7 MB\u001b[0m \u001b[31m52.5 MB/s\u001b[0m eta \u001b[36m0:00:00\u001b[0m\n",
            "\u001b[?25hRequirement already satisfied: numpy>=1.22 in /usr/local/lib/python3.10/dist-packages (from scikit-image) (1.23.5)\n",
            "Requirement already satisfied: scipy>=1.8 in /usr/local/lib/python3.10/dist-packages (from scikit-image) (1.11.4)\n",
            "Requirement already satisfied: networkx>=2.8 in /usr/local/lib/python3.10/dist-packages (from scikit-image) (3.2.1)\n",
            "Requirement already satisfied: pillow>=9.0.1 in /usr/local/lib/python3.10/dist-packages (from scikit-image) (9.4.0)\n",
            "Requirement already satisfied: imageio>=2.27 in /usr/local/lib/python3.10/dist-packages (from scikit-image) (2.31.6)\n",
            "Requirement already satisfied: tifffile>=2022.8.12 in /usr/local/lib/python3.10/dist-packages (from scikit-image) (2024.1.30)\n",
            "Requirement already satisfied: packaging>=21 in /usr/local/lib/python3.10/dist-packages (from scikit-image) (23.2)\n",
            "Requirement already satisfied: lazy_loader>=0.3 in /usr/local/lib/python3.10/dist-packages (from scikit-image) (0.3)\n",
            "Installing collected packages: scikit-image\n",
            "  Attempting uninstall: scikit-image\n",
            "    Found existing installation: scikit-image 0.19.3\n",
            "    Uninstalling scikit-image-0.19.3:\n",
            "      Successfully uninstalled scikit-image-0.19.3\n",
            "Successfully installed scikit-image-0.22.0\n"
          ]
        }
      ]
    },
    {
      "cell_type": "markdown",
      "source": [
        "# Попытка использовать remap. Отложена из-за чрезмерного времени на реализацию."
      ],
      "metadata": {
        "id": "LAGevHOFV4H7"
      }
    },
    {
      "cell_type": "code",
      "source": [
        "perspective_matrix = cv2.getPerspectiveTransform(src_points, dst_points)\n",
        "\n",
        "# Размер целевого изображения\n",
        "target_size = (wall_width, wall_height)\n",
        "\n",
        "map_x, map_y = np.meshgrid(np.arange(target_size[0]), np.arange(target_size[1]))\n",
        "\n",
        "# Преобразуем координаты с использованием матрицы преобразования\n",
        "transformed_coordinates = np.dot(perspective_matrix, np.vstack([map_x.flatten(), map_y.flatten(), np.ones_like(map_x.flatten())]))\n",
        "\n",
        "# Нормализуем координаты\n",
        "normalized_coordinates = (transformed_coordinates[:2, :] / transformed_coordinates[2, :]).T.reshape(target_size[1], target_size[0], 2)\n",
        "\n",
        "# Используем remap для получения прямоугольного изображения\n",
        "#result_rectangular = cv2.remap(result, normalized_coordinates, None, interpolation=cv2.INTER_LINEAR)\n",
        "\n",
        "# Сохраните результат\n",
        "#cv2.imwrite(\"/content/rectangular_result.jpg\", result_rectangular)\n",
        "\n",
        "\n",
        "#cv2.initUndistortRectifyMap()"
      ],
      "metadata": {
        "id": "Q7ZwBE1_48u2"
      },
      "execution_count": null,
      "outputs": []
    },
    {
      "cell_type": "markdown",
      "source": [
        "# Попытка кусочно-афинного преобразования. Отложена из-за чрезмерного времени на реализацию и неудовлетворительные промежуточные результаты."
      ],
      "metadata": {
        "id": "YbukJEN8WMgR"
      }
    },
    {
      "cell_type": "code",
      "source": [
        "x1 = vertical_corners[0][0]\n",
        "x2 = vertical_corners[2][0]\n",
        "shape1 = x2 - x1 + 1\n",
        "shape2 = 2\n",
        "src = np.zeros((shape1 * shape2, 2))\n",
        "print(type(src[0][0]))\n",
        "for i in range(shape1):\n",
        "    ind = i * 2\n",
        "    src[ind    ][0] = x1 + i\n",
        "    src[ind + 1][0] = src[ind][0]\n",
        "    ind2 = int(src[ind][0])\n",
        "    src[ind    ][1] = horizontal_corners[0][ind2]\n",
        "    src[ind + 1][1] = horizontal_corners[1][ind2]\n",
        "src.shape"
      ],
      "metadata": {
        "id": "ze4pcL0PU9Zx",
        "colab": {
          "base_uri": "https://localhost:8080/"
        },
        "outputId": "5cc7302d-bbe3-4f7a-86c4-c4c044ea9e8b"
      },
      "execution_count": null,
      "outputs": [
        {
          "output_type": "stream",
          "name": "stdout",
          "text": [
            "<class 'numpy.float64'>\n"
          ]
        },
        {
          "output_type": "execute_result",
          "data": {
            "text/plain": [
              "(666, 2)"
            ]
          },
          "metadata": {},
          "execution_count": 36
        }
      ]
    },
    {
      "cell_type": "code",
      "source": [
        "dst_cols = np.linspace(0, 1204, shape1)\n",
        "dst_rows = np.linspace(0, 560, 2)\n",
        "dst_rows, dst_cols = np.meshgrid(dst_rows, dst_cols)\n",
        "dst = np.dstack([dst_cols.flat, dst_rows.flat])[0]\n",
        "dst.shape"
      ],
      "metadata": {
        "colab": {
          "base_uri": "https://localhost:8080/"
        },
        "id": "bSC1_j_pjymr",
        "outputId": "f6f275b9-6105-4fbb-9559-bd30e6258331"
      },
      "execution_count": null,
      "outputs": [
        {
          "output_type": "execute_result",
          "data": {
            "text/plain": [
              "(666, 2)"
            ]
          },
          "metadata": {},
          "execution_count": 37
        }
      ]
    },
    {
      "cell_type": "code",
      "source": [
        "dst"
      ],
      "metadata": {
        "colab": {
          "base_uri": "https://localhost:8080/"
        },
        "id": "R5gGaXH7j2os",
        "outputId": "44bfd658-6e8e-49f6-ff58-aecb65c4a5a3"
      },
      "execution_count": null,
      "outputs": [
        {
          "output_type": "execute_result",
          "data": {
            "text/plain": [
              "array([[   0.        ,    0.        ],\n",
              "       [   0.        ,  560.        ],\n",
              "       [   3.62650602,    0.        ],\n",
              "       ...,\n",
              "       [1200.37349398,  560.        ],\n",
              "       [1204.        ,    0.        ],\n",
              "       [1204.        ,  560.        ]])"
            ]
          },
          "metadata": {},
          "execution_count": 38
        }
      ]
    },
    {
      "cell_type": "code",
      "source": [
        "from skimage.transform import PiecewiseAffineTransform, warp\n",
        "\n",
        "x1 = vertical_corners[0][0]\n",
        "x2 = vertical_corners[2][0]\n",
        "shape1 = x2 - x1 + 1\n",
        "shape2 = 2\n",
        "src = np.zeros((shape1 * shape2, 2))\n",
        "print(type(src[0][0]))\n",
        "for i in range(shape1):\n",
        "    ind = i * 2\n",
        "    src[ind    ][0] = x1 + i\n",
        "    src[ind + 1][0] = src[ind][0]\n",
        "    ind2 = int(src[ind][0])\n",
        "    src[ind    ][1] = horizontal_corners[0][ind2]\n",
        "    src[ind + 1][1] = horizontal_corners[1][ind2]\n",
        "\n",
        "dst_cols = np.linspace(0, 1204 - 1, shape1)\n",
        "dst_rows = np.linspace(0, 560 - 1, 2)\n",
        "dst_rows, dst_cols = np.meshgrid(dst_rows, dst_cols)\n",
        "dst = np.dstack([dst_cols.flat, dst_rows.flat])[0]\n",
        "dst.shape\n",
        "\n",
        "tform = PiecewiseAffineTransform()\n",
        "tform.estimate(src, dst)\n",
        "\n",
        "out = warp(result, tform, output_shape=(560, 1204))\n",
        "\n",
        "cv2.imwrite(\"/content/001.jpg\", out)"
      ],
      "metadata": {
        "colab": {
          "base_uri": "https://localhost:8080/"
        },
        "id": "f0UyMafHrxjt",
        "outputId": "402f0b6f-398e-4e9c-ce11-964c6c721351"
      },
      "execution_count": null,
      "outputs": [
        {
          "output_type": "stream",
          "name": "stdout",
          "text": [
            "<class 'numpy.float64'>\n"
          ]
        },
        {
          "output_type": "execute_result",
          "data": {
            "text/plain": [
              "True"
            ]
          },
          "metadata": {},
          "execution_count": 39
        }
      ]
    },
    {
      "cell_type": "markdown",
      "source": [
        "# depth"
      ],
      "metadata": {
        "id": "5bRwf9Sof7KV"
      }
    },
    {
      "cell_type": "code",
      "source": [
        "ddd = [[1234, 0] for _ in range(1024)]\n",
        "for i in range(1024):\n",
        "    for j in range(horizontal_corners[0][i], horizontal_corners[1][i]):\n",
        "        if depth_map[j][i] < ddd[i][0]:\n",
        "            ddd[i][0] = depth_map[j][i]\n",
        "            ddd[i][1] = j\n",
        "\n",
        "cnt_other_depth = 0\n",
        "for v1, v2 in ddd:\n",
        "    if v2 != 255:\n",
        "        cnt_other_depth +=1\n",
        "cnt_other_depth"
      ],
      "metadata": {
        "colab": {
          "base_uri": "https://localhost:8080/"
        },
        "id": "Nf1v3x8GL6Sr",
        "outputId": "e3566bbc-dbbd-45c2-ba81-ee15a4d3f2ff"
      },
      "execution_count": null,
      "outputs": [
        {
          "output_type": "execute_result",
          "data": {
            "text/plain": [
              "23"
            ]
          },
          "metadata": {},
          "execution_count": 40
        }
      ]
    },
    {
      "cell_type": "markdown",
      "source": [
        "Для стен середина проекции имеет координату 255 почти на всей протяжённости панорамы. Нормаль к плоскости первой стены проходит через точку [255,255]"
      ],
      "metadata": {
        "id": "BVtFvJ1NW7hb"
      }
    },
    {
      "cell_type": "code",
      "source": [
        "min(ddd[31:364])"
      ],
      "metadata": {
        "colab": {
          "base_uri": "https://localhost:8080/"
        },
        "id": "UjuH9HSYL6VX",
        "outputId": "5f8a0a80-c987-4aa2-efe5-a56e25b88598"
      },
      "execution_count": null,
      "outputs": [
        {
          "output_type": "execute_result",
          "data": {
            "text/plain": [
              "[1.1305078, 255]"
            ]
          },
          "metadata": {},
          "execution_count": 41
        }
      ]
    },
    {
      "cell_type": "code",
      "source": [
        "x1 = vertical_corners[0][0]\n",
        "x2 = vertical_corners[2][0]\n",
        "[x1,x2]"
      ],
      "metadata": {
        "colab": {
          "base_uri": "https://localhost:8080/"
        },
        "id": "P1oYHdbOL6X9",
        "outputId": "9a854854-67b4-43df-b48d-0b3204998dd0"
      },
      "execution_count": null,
      "outputs": [
        {
          "output_type": "execute_result",
          "data": {
            "text/plain": [
              "[31, 363]"
            ]
          },
          "metadata": {},
          "execution_count": 42
        }
      ]
    },
    {
      "cell_type": "code",
      "source": [
        "ddd[250:260] # 255-256 -- median"
      ],
      "metadata": {
        "colab": {
          "base_uri": "https://localhost:8080/"
        },
        "id": "sA9kS2gHgQdq",
        "outputId": "140ea67e-bdac-4d56-fc77-df13b0cfb4df"
      },
      "execution_count": null,
      "outputs": [
        {
          "output_type": "execute_result",
          "data": {
            "text/plain": [
              "[[1.1311467, 255],\n",
              " [1.1309336, 255],\n",
              " [1.1307633, 255],\n",
              " [1.1306356, 255],\n",
              " [1.1305504, 255],\n",
              " [1.1305078, 255],\n",
              " [1.1305078, 255],\n",
              " [1.1305504, 255],\n",
              " [1.1306356, 255],\n",
              " [1.1307633, 255]]"
            ]
          },
          "metadata": {},
          "execution_count": 43
        }
      ]
    },
    {
      "cell_type": "code",
      "source": [
        "[horizontal_corners[0][255],\n",
        "horizontal_corners[1][255]]"
      ],
      "metadata": {
        "colab": {
          "base_uri": "https://localhost:8080/"
        },
        "id": "l7ocm4oIgQjb",
        "outputId": "1f1f4673-c4e5-42be-ec10-5d10aae07a81"
      },
      "execution_count": null,
      "outputs": [
        {
          "output_type": "execute_result",
          "data": {
            "text/plain": [
              "[123, 411]"
            ]
          },
          "metadata": {},
          "execution_count": 44
        }
      ]
    },
    {
      "cell_type": "code",
      "source": [
        "temp_ = [depth_map[255][255], depth_map[123][255], depth_map[411][255]]\n",
        "am = (temp_[1] ** 2 - temp_[0] ** 2) ** 0.5\n",
        "mb = (temp_[2] ** 2 - temp_[0] ** 2) ** 0.5\n",
        "height_prop = [am * 100 / wall_height, mb * 100 / wall_height]\n",
        "[[am, mb], height_prop]\n",
        "# камера находилась на высоте ~1.6 метра над землёй."
      ],
      "metadata": {
        "colab": {
          "base_uri": "https://localhost:8080/"
        },
        "id": "ZNQrgQVUgQms",
        "outputId": "86a47f94-389e-428d-d504-b765d505b715"
      },
      "execution_count": null,
      "outputs": [
        {
          "output_type": "execute_result",
          "data": {
            "text/plain": [
              "[[1.1947171704275479, 1.5947711024441236],\n",
              " [0.5127541503980892, 0.6844511169288084]]"
            ]
          },
          "metadata": {},
          "execution_count": 45
        }
      ]
    },
    {
      "cell_type": "markdown",
      "source": [
        "# Итоговый рабочий вариант. Partfully warpPerspective"
      ],
      "metadata": {
        "id": "kBcutyyXezDa"
      }
    },
    {
      "cell_type": "code",
      "source": [
        "\n",
        "panorama_image_path = \"/content/image_1024_aligned_rgb.png\"\n",
        "new_pan = cv2.imread(panorama_image_path, cv2.IMREAD_COLOR)\n",
        "x1 = vertical_corners[0][0]\n",
        "x2 = vertical_corners[2][0]\n",
        "first_point = []\n",
        "mask = np.zeros_like(new_pan)\n",
        "y1_max = 512\n",
        "y2_max = 0\n",
        "for i in range(x1, x2 + 1):\n",
        "    mask[horizontal_corners[0][i]: horizontal_corners[1][i], i] = 1\n",
        "    y1_max = min(y1_max, horizontal_corners[0][i])\n",
        "    y2_max = max(y2_max, horizontal_corners[1][i])\n",
        "\n",
        "# Примените маску к панораме\n",
        "#result = new_pan * mask\n",
        "#result = result[y1_max:y2_max, x1:x2]\n",
        "result = new_pan\n",
        "    # Сохраните результат\n",
        "cv2.imwrite(\"/content/1_wall_start.jpg\", result)"
      ],
      "metadata": {
        "colab": {
          "base_uri": "https://localhost:8080/"
        },
        "id": "Uay1KZ7oL6au",
        "outputId": "ce2b27a7-66ce-490b-fcda-2745856be6d1"
      },
      "execution_count": null,
      "outputs": [
        {
          "output_type": "execute_result",
          "data": {
            "text/plain": [
              "True"
            ]
          },
          "metadata": {},
          "execution_count": 46
        }
      ]
    },
    {
      "cell_type": "code",
      "source": [
        "x_min = x1\n",
        "x_max = x2"
      ],
      "metadata": {
        "id": "iulugP4nVcM6"
      },
      "execution_count": null,
      "outputs": []
    },
    {
      "cell_type": "code",
      "source": [
        "result.shape"
      ],
      "metadata": {
        "colab": {
          "base_uri": "https://localhost:8080/"
        },
        "id": "V-AlPeAyOEIN",
        "outputId": "c4c27ae8-7d43-4ea0-e01c-9d224f6b7394"
      },
      "execution_count": null,
      "outputs": [
        {
          "output_type": "execute_result",
          "data": {
            "text/plain": [
              "(512, 1024, 3)"
            ]
          },
          "metadata": {},
          "execution_count": 48
        }
      ]
    },
    {
      "cell_type": "code",
      "source": [
        "#for j in range(0, len(result[0]), 2):\n",
        "#    x1 = j\n",
        "#    x2 = j + 1\n",
        "#\n",
        "#    point1 = [x1, horizontal_corners[0][x1] - y1_max]\n",
        "#    point2 = [x2, horizontal_corners[0][x2] - y1_max]\n",
        "#    point3 = [x2, horizontal_corners[1][x2] - y1_max]\n",
        "#    point4 = [x1, horizontal_corners[1][x1] - y1_max]\n",
        "#\n",
        "#    width = 2\n",
        "#    height = y2_max - y1_max\n",
        "#\n",
        "#    src_points = np.array([point1, point2, point3, point4], dtype=np.float32)\n",
        "#    dst_points = np.array([[0, 0], [width, 0], [width, height], [0, height]], dtype=np.float32)\n",
        "#\n",
        "#    # Получите матрицу преобразования\n",
        "#    perspective_matrix = cv2.getPerspectiveTransform(src_points, dst_points)\n",
        "#\n",
        "#    # Примените преобразование\n",
        "#    result_rectangular = cv2.warpPerspective(result, perspective_matrix, (width, height))\n",
        "#\n",
        "#    for i in range(len(result_rectangular)):\n",
        "#        result[i][x1] = result_rectangular[i][0]\n",
        "#        result[i][x2] = result_rectangular[i][1]"
      ],
      "metadata": {
        "id": "7Mbby6fAMde1"
      },
      "execution_count": null,
      "outputs": []
    },
    {
      "cell_type": "code",
      "source": [
        "width = 2\n",
        "for j in range(x_min, x_max + 1, width):\n",
        "    x1 = j\n",
        "    x2 = j + width - 1\n",
        "\n",
        "    # над высотой камеры\n",
        "    yy = 255\n",
        "    point1 = [x1, horizontal_corners[0][x1]]\n",
        "    point2 = [x2, horizontal_corners[0][x2]]\n",
        "    point3 = [x2, yy]\n",
        "    point4 = [x1, yy]\n",
        "\n",
        "    height = yy - y1_max + 1\n",
        "    src_points = np.array([point1, point2, point3, point4], dtype=np.float32)\n",
        "    dst_points = np.array([[0, 0], [width - 1, 0], [width - 1, height - 1], [0, height - 1]], dtype=np.float32)\n",
        "\n",
        "    # Получите матрицу преобразования\n",
        "    perspective_matrix = cv2.getPerspectiveTransform(src_points, dst_points)\n",
        "\n",
        "    # Примените преобразование\n",
        "    result_rectangular = cv2.warpPerspective(result, perspective_matrix, (width, height))\n",
        "\n",
        "    for i in range(len(result_rectangular)):\n",
        "        for j in range(width):\n",
        "            result[i + y1_max][x1 + j] = result_rectangular[i][j]\n",
        "\n",
        "\n",
        "\n",
        "    # ниже высоты камеры\n",
        "    yy = 256\n",
        "    point1 = [x1, yy]\n",
        "    point2 = [x2, yy]\n",
        "    point3 = [x2, horizontal_corners[1][x2]]\n",
        "    point4 = [x1, horizontal_corners[1][x1]]\n",
        "\n",
        "    height = y2_max - yy + 1\n",
        "    src_points = np.array([point1, point2, point3, point4], dtype=np.float32)\n",
        "    dst_points = np.array([[0, 0], [width - 1, 0], [width - 1, height - 1], [0, height - 1]], dtype=np.float32)\n",
        "\n",
        "    # Получите матрицу преобразования\n",
        "    perspective_matrix = cv2.getPerspectiveTransform(src_points, dst_points)\n",
        "\n",
        "    # Примените преобразование\n",
        "    result_rectangular = cv2.warpPerspective(result, perspective_matrix, (width, height))\n",
        "\n",
        "    for i in range(len(result_rectangular)):\n",
        "        for k in range(width):\n",
        "            result[i + yy][x1 + k] = result_rectangular[i][k]"
      ],
      "metadata": {
        "id": "x2N9hvs4VVRm"
      },
      "execution_count": null,
      "outputs": []
    },
    {
      "cell_type": "code",
      "source": [
        "#width = 2\n",
        "#for j in range(x_min, x_max, width):\n",
        "#    x1 = j\n",
        "#    x2 = j + width - 1\n",
        "#\n",
        "#    # над высотой камеры\n",
        "#    yy = 255\n",
        "#    point1 = [x1, horizontal_corners[0][x1]]\n",
        "#    point2 = [x2, horizontal_corners[0][x2]]\n",
        "#    point3 = [x2, yy]\n",
        "#    point4 = [x1, yy]\n",
        "#\n",
        "#    height = yy - y1_max + 1\n",
        "#    src_points = np.array([point1, point2, point3, point4], dtype=np.float32)\n",
        "#    dst_points = np.array([[0, 0], [width - 1, 0], [width - 1, height - 1], [0, height - 1]], dtype=np.float32)\n",
        "#\n",
        "#    # Получите матрицу преобразования\n",
        "#    perspective_matrix = cv2.getPerspectiveTransform(src_points, dst_points)\n",
        "#\n",
        "#    # Примените преобразование\n",
        "#    result_rectangular = cv2.warpPerspective(result, perspective_matrix, (width, height))\n",
        "#\n",
        "#    for i in range(len(result_rectangular)):\n",
        "#        result[i + y1_max][x1] = result_rectangular[i][0]\n",
        "#        result[i + y1_max][x2] = result_rectangular[i][1]\n",
        "#\n",
        "#\n",
        "#    # ниже высоты камеры\n",
        "#    yy = 256\n",
        "#    point1 = [x1, yy]\n",
        "#    point2 = [x2, yy]\n",
        "#    point3 = [x2, horizontal_corners[1][x2]]\n",
        "#    point4 = [x1, horizontal_corners[1][x1]]\n",
        "#\n",
        "#    height = y2_max - yy + 1\n",
        "#    src_points = np.array([point1, point2, point3, point4], dtype=np.float32)\n",
        "#    dst_points = np.array([[0, 0], [width - 1, 0], [width - 1, height - 1], [0, height - 1]], dtype=np.float32)\n",
        "#\n",
        "#    # Получите матрицу преобразования\n",
        "#    perspective_matrix = cv2.getPerspectiveTransform(src_points, dst_points)\n",
        "#\n",
        "#    # Примените преобразование\n",
        "#    result_rectangular = cv2.warpPerspective(result, perspective_matrix, (width, height))\n",
        "#\n",
        "#    for i in range(len(result_rectangular)):\n",
        "#        result[i + yy][x1] = result_rectangular[i][0]\n",
        "#        result[i + yy][x2] = result_rectangular[i][1]"
      ],
      "metadata": {
        "id": "kujOuErIfTH9"
      },
      "execution_count": null,
      "outputs": []
    },
    {
      "cell_type": "code",
      "source": [
        "cv2.imwrite(\"/content/1_wall.jpg\", result)"
      ],
      "metadata": {
        "colab": {
          "base_uri": "https://localhost:8080/"
        },
        "id": "HUwsr22oN1Zp",
        "outputId": "7e7d43f2-f700-4dc9-8580-f075e2938708"
      },
      "execution_count": null,
      "outputs": [
        {
          "output_type": "execute_result",
          "data": {
            "text/plain": [
              "True"
            ]
          },
          "metadata": {},
          "execution_count": 52
        }
      ]
    },
    {
      "cell_type": "code",
      "source": [
        "# обрезаем фото по стене.\n",
        "x1 = vertical_corners[0][0]\n",
        "x2 = vertical_corners[2][0]\n",
        "result = result[y1_max:y2_max, x1:x2]\n",
        "#\n",
        "#    # Сохраните результат\n",
        "cv2.imwrite(\"/content/1_wall.jpg\", result)"
      ],
      "metadata": {
        "colab": {
          "base_uri": "https://localhost:8080/"
        },
        "id": "6Ej9k2i2PEdI",
        "outputId": "c794b799-1efd-4a87-ac63-f23e1c30c97b"
      },
      "execution_count": null,
      "outputs": [
        {
          "output_type": "execute_result",
          "data": {
            "text/plain": [
              "True"
            ]
          },
          "metadata": {},
          "execution_count": 53
        }
      ]
    },
    {
      "cell_type": "markdown",
      "source": [
        "Мы получили изображение без учёта глубины.\n",
        "Дополнительное исследование работы с глубиной."
      ],
      "metadata": {
        "id": "bnsqbqHQZddb"
      }
    },
    {
      "cell_type": "code",
      "source": [
        "depth_map.shape"
      ],
      "metadata": {
        "colab": {
          "base_uri": "https://localhost:8080/"
        },
        "id": "6JYKYg8ypXnY",
        "outputId": "6e48a0be-76da-4d6c-ce2b-c6e563ddf5a5"
      },
      "execution_count": null,
      "outputs": [
        {
          "output_type": "execute_result",
          "data": {
            "text/plain": [
              "(512, 1024)"
            ]
          },
          "metadata": {},
          "execution_count": 54
        }
      ]
    },
    {
      "cell_type": "code",
      "source": [
        "[x1,x2]"
      ],
      "metadata": {
        "colab": {
          "base_uri": "https://localhost:8080/"
        },
        "id": "k0KdfXWQUaPf",
        "outputId": "bfc2ca64-2a95-421a-bf4a-a152cd104cf2"
      },
      "execution_count": null,
      "outputs": [
        {
          "output_type": "execute_result",
          "data": {
            "text/plain": [
              "[31, 363]"
            ]
          },
          "metadata": {},
          "execution_count": 55
        }
      ]
    },
    {
      "cell_type": "code",
      "source": [
        "center_1_wall = [255, 255]\n",
        "depth_map[255][255]"
      ],
      "metadata": {
        "colab": {
          "base_uri": "https://localhost:8080/"
        },
        "id": "5-Y7mw7bMwSZ",
        "outputId": "9ae53015-b486-4fd1-a89f-583e6354f5de"
      },
      "execution_count": null,
      "outputs": [
        {
          "output_type": "execute_result",
          "data": {
            "text/plain": [
              "1.1305078"
            ]
          },
          "metadata": {},
          "execution_count": 56
        }
      ]
    },
    {
      "cell_type": "code",
      "source": [
        "255-31"
      ],
      "metadata": {
        "colab": {
          "base_uri": "https://localhost:8080/"
        },
        "id": "IS_l2-oWpC80",
        "outputId": "2bf7c06e-9b10-40ff-8c88-1d3d187c4c72"
      },
      "execution_count": null,
      "outputs": [
        {
          "output_type": "execute_result",
          "data": {
            "text/plain": [
              "224"
            ]
          },
          "metadata": {},
          "execution_count": 57
        }
      ]
    },
    {
      "cell_type": "code",
      "source": [
        "255-363"
      ],
      "metadata": {
        "colab": {
          "base_uri": "https://localhost:8080/"
        },
        "id": "5TrY_XjqpDAW",
        "outputId": "4944b929-cad7-4b57-d388-72c896e1c376"
      },
      "execution_count": null,
      "outputs": [
        {
          "output_type": "execute_result",
          "data": {
            "text/plain": [
              "-108"
            ]
          },
          "metadata": {},
          "execution_count": 58
        }
      ]
    },
    {
      "cell_type": "code",
      "source": [
        "depth_map[255][31]"
      ],
      "metadata": {
        "colab": {
          "base_uri": "https://localhost:8080/"
        },
        "id": "n1aXCCT8pDC8",
        "outputId": "33b9e44f-1246-4558-d38f-6a0e4b56dc50"
      },
      "execution_count": null,
      "outputs": [
        {
          "output_type": "execute_result",
          "data": {
            "text/plain": [
              "5.8855715"
            ]
          },
          "metadata": {},
          "execution_count": 59
        }
      ]
    },
    {
      "cell_type": "code",
      "source": [
        "depth_1_wall = depth_map[255][31:363]"
      ],
      "metadata": {
        "id": "VoyICr7BpDHt"
      },
      "execution_count": null,
      "outputs": []
    },
    {
      "cell_type": "code",
      "source": [
        "center_1_wall = 255-30"
      ],
      "metadata": {
        "id": "d4Tfd-KcmtXb"
      },
      "execution_count": null,
      "outputs": []
    },
    {
      "cell_type": "code",
      "source": [
        "(363-31+1)/4"
      ],
      "metadata": {
        "colab": {
          "base_uri": "https://localhost:8080/"
        },
        "id": "BIeaqY3umtay",
        "outputId": "bd28a693-c58d-4a5c-c024-ca170d7eaa16"
      },
      "execution_count": null,
      "outputs": [
        {
          "output_type": "execute_result",
          "data": {
            "text/plain": [
              "83.25"
            ]
          },
          "metadata": {},
          "execution_count": 62
        }
      ]
    },
    {
      "cell_type": "code",
      "source": [
        "mera = (depth_1_wall[center_1_wall + 3] ** 2 - depth_1_wall[center_1_wall] ** 2) ** 0.5\n",
        "mera"
      ],
      "metadata": {
        "colab": {
          "base_uri": "https://localhost:8080/"
        },
        "id": "fac6loYkmtd8",
        "outputId": "e2da06e1-c1fd-4c80-a421-35adea0a175a"
      },
      "execution_count": null,
      "outputs": [
        {
          "output_type": "execute_result",
          "data": {
            "text/plain": [
              "0.024034907406875267"
            ]
          },
          "metadata": {},
          "execution_count": 63
        }
      ]
    },
    {
      "cell_type": "code",
      "source": [
        "(depth_1_wall[center_1_wall - 4] ** 2 - depth_1_wall[center_1_wall] ** 2) ** 0.5"
      ],
      "metadata": {
        "colab": {
          "base_uri": "https://localhost:8080/"
        },
        "id": "W5GFQcLZmtg1",
        "outputId": "c42744b4-c9c5-4d3d-c100-a95735fe8af6"
      },
      "execution_count": null,
      "outputs": [
        {
          "output_type": "execute_result",
          "data": {
            "text/plain": [
              "0.024034907406875267"
            ]
          },
          "metadata": {},
          "execution_count": 64
        }
      ]
    },
    {
      "cell_type": "code",
      "source": [
        "center_1_wall + 4*34"
      ],
      "metadata": {
        "colab": {
          "base_uri": "https://localhost:8080/"
        },
        "id": "IzQi-FhZntuk",
        "outputId": "f769dde1-91d1-4d6a-ad75-9d0e1dfa24e9"
      },
      "execution_count": null,
      "outputs": [
        {
          "output_type": "execute_result",
          "data": {
            "text/plain": [
              "361"
            ]
          },
          "metadata": {},
          "execution_count": 65
        }
      ]
    },
    {
      "cell_type": "code",
      "source": [
        "center_1_wall - 4*56"
      ],
      "metadata": {
        "colab": {
          "base_uri": "https://localhost:8080/"
        },
        "id": "1NpEgex9ntxl",
        "outputId": "5e906f00-5ac7-48da-f67c-d3cdbe864b02"
      },
      "execution_count": null,
      "outputs": [
        {
          "output_type": "execute_result",
          "data": {
            "text/plain": [
              "1"
            ]
          },
          "metadata": {},
          "execution_count": 66
        }
      ]
    },
    {
      "cell_type": "code",
      "source": [
        "np.around(((depth_1_wall[center_1_wall + 7] ** 2 - depth_1_wall[center_1_wall] ** 2) ** 0.5 - mera * 1)/mera *4, decimals = 0).astype(int)"
      ],
      "metadata": {
        "colab": {
          "base_uri": "https://localhost:8080/"
        },
        "id": "NgmBCm0bnt08",
        "outputId": "6b4bf674-ef78-4fa9-f8fe-4d01c8211d62"
      },
      "execution_count": null,
      "outputs": [
        {
          "output_type": "execute_result",
          "data": {
            "text/plain": [
              "5"
            ]
          },
          "metadata": {},
          "execution_count": 67
        }
      ]
    },
    {
      "cell_type": "code",
      "source": [
        "depth_1_wall.shape[0]"
      ],
      "metadata": {
        "colab": {
          "base_uri": "https://localhost:8080/"
        },
        "id": "i-sdNf_eHYUW",
        "outputId": "c61ffd01-ee76-416b-a69f-9dc82d4c67ea"
      },
      "execution_count": null,
      "outputs": [
        {
          "output_type": "execute_result",
          "data": {
            "text/plain": [
              "332"
            ]
          },
          "metadata": {},
          "execution_count": 68
        }
      ]
    },
    {
      "cell_type": "markdown",
      "source": [
        "Формируем список векторов по расширению отдельных участков (кусочно) изображения вширь: как координаты, так и то, насколько расширять. Как правее нормали, так и левее её."
      ],
      "metadata": {
        "id": "0w5yh-HfZ0Hs"
      }
    },
    {
      "cell_type": "code",
      "source": [
        "total_size = 0 + 4\n",
        "ind_size_higher = [[center_1_wall, 4]]\n",
        "ind = center_1_wall + 3\n",
        "while ind + 4 < len(depth_1_wall):\n",
        "    next_size = np.around(((depth_1_wall[ind + 4] ** 2 - depth_1_wall[center_1_wall] ** 2) ** 0.5 - mera * len(ind_size_higher))/mera *4, decimals = 0).astype(int)\n",
        "    ind_size_higher.append([ind, next_size])\n",
        "    total_size += next_size\n",
        "    ind += 4\n",
        "if ind != depth_1_wall.shape[0] - 1:\n",
        "    ind -= 4\n",
        "    total_size -= ind_size_higher[-1][1]\n",
        "    ind_size_higher.pop()\n",
        "    step = depth_1_wall.shape[0] - 1 - ind\n",
        "    next_size = np.around(((depth_1_wall[ind + step] ** 2 - depth_1_wall[center_1_wall] ** 2) ** 0.5 - mera * len(ind_size_higher))\n",
        "                            / mera * step, decimals = 0).astype(int)\n",
        "    ind_size_higher.append([ind, next_size])\n",
        "    total_size += next_size\n",
        "    ind += step\n",
        "ind_size_higher.append([ind, 0])\n",
        "# ind_size_higher\n"
      ],
      "metadata": {
        "id": "DTle7gUMheSi"
      },
      "execution_count": null,
      "outputs": []
    },
    {
      "cell_type": "code",
      "source": [
        "total_size"
      ],
      "metadata": {
        "colab": {
          "base_uri": "https://localhost:8080/"
        },
        "id": "ulwfXt21Kqcl",
        "outputId": "bd48c1ab-eb5e-4e96-ec02-7de20bc35324"
      },
      "execution_count": null,
      "outputs": [
        {
          "output_type": "execute_result",
          "data": {
            "text/plain": [
              "472"
            ]
          },
          "metadata": {},
          "execution_count": 70
        }
      ]
    },
    {
      "cell_type": "code",
      "source": [
        "total_size += 4\n",
        "ind = center_1_wall - 4\n",
        "ind_size_lower = [[ind, 4]]\n",
        "ind -= 4\n",
        "while ind >= 0:\n",
        "    next_size = np.around(((depth_1_wall[ind] ** 2 - depth_1_wall[center_1_wall] ** 2) ** 0.5 - mera * len(ind_size_lower))/mera *4, decimals = 0).astype(int)\n",
        "    ind_size_lower.insert(0, [ind, next_size])\n",
        "    total_size += next_size\n",
        "    ind -= 4\n",
        "if ind != 0:\n",
        "    ind += 4 * 2\n",
        "    total_size -= ind_size_lower[0][1]\n",
        "    ind_size_lower.pop(0)\n",
        "    step = ind\n",
        "    ind = 0\n",
        "    next_size = np.around(((depth_1_wall[0] ** 2 - depth_1_wall[center_1_wall] ** 2) ** 0.5 - mera * len(ind_size_lower))\n",
        "                            / mera * step, decimals = 0).astype(int)\n",
        "    ind_size_lower.insert(0, [0, next_size])\n",
        "    total_size += next_size\n",
        "    ind = 0\n",
        "#ind_size_lower"
      ],
      "metadata": {
        "id": "b_gUNqcv34cF"
      },
      "execution_count": null,
      "outputs": []
    },
    {
      "cell_type": "code",
      "source": [
        "ind_size = ind_size_lower + ind_size_higher\n",
        "# ind_size"
      ],
      "metadata": {
        "id": "N43ePNz67HNU"
      },
      "execution_count": null,
      "outputs": []
    },
    {
      "cell_type": "code",
      "source": [
        "new_res = np.zeros((result.shape[0], total_size, result.shape[2]), dtype=np.uint8)\n",
        "new_res.shape"
      ],
      "metadata": {
        "colab": {
          "base_uri": "https://localhost:8080/"
        },
        "id": "QjVU84xa7HSE",
        "outputId": "65cbc6b6-17ac-45b7-fb5d-e09c64f65ffe"
      },
      "execution_count": null,
      "outputs": [
        {
          "output_type": "execute_result",
          "data": {
            "text/plain": [
              "(288, 7414, 3)"
            ]
          },
          "metadata": {},
          "execution_count": 73
        }
      ]
    },
    {
      "cell_type": "code",
      "source": [
        "height = result.shape[0]\n",
        "xx = 0\n",
        "for j in range(len(ind_size) - 1):\n",
        "    width = ind_size[j + 1][0] - ind_size[j][0]\n",
        "    x1 = ind_size[j][0]\n",
        "    x2 = x1 + width - 1\n",
        "\n",
        "    # над высотой камеры\n",
        "    yy = 255\n",
        "    point1 = [x1, 0]\n",
        "    point2 = [x2, 0]\n",
        "    point3 = [x2, height - 1]\n",
        "    point4 = [x1, height - 1]\n",
        "\n",
        "\n",
        "    src_points = np.array([point1, point2, point3, point4], dtype=np.float32)\n",
        "    dst_points = np.array([[0, 0], [ind_size[j][1] - 1, 0], [ind_size[j][1] - 1, height - 1], [0, height - 1]], dtype=np.float32)\n",
        "\n",
        "    # Получите матрицу преобразования\n",
        "    perspective_matrix = cv2.getPerspectiveTransform(src_points, dst_points)\n",
        "\n",
        "    # Примените преобразование\n",
        "    result_rectangular = cv2.warpPerspective(result, perspective_matrix, (ind_size[j][1], height))\n",
        "\n",
        "    for i in range(len(result_rectangular)):\n",
        "        for k in range(ind_size[j][1]):\n",
        "            new_res[i][xx + k] = result_rectangular[i][k]\n",
        "    xx += ind_size[j][1]"
      ],
      "metadata": {
        "id": "AwWe7q_r7HVt"
      },
      "execution_count": null,
      "outputs": []
    },
    {
      "cell_type": "code",
      "source": [
        "cv2.imwrite(\"/content/1_wall_final.jpg\", new_res)"
      ],
      "metadata": {
        "colab": {
          "base_uri": "https://localhost:8080/"
        },
        "id": "SHFzu6817HX0",
        "outputId": "66e6ea4e-de5a-4ce0-aba3-598ff6aedf80"
      },
      "execution_count": null,
      "outputs": [
        {
          "output_type": "execute_result",
          "data": {
            "text/plain": [
              "True"
            ]
          },
          "metadata": {},
          "execution_count": 75
        }
      ]
    },
    {
      "cell_type": "code",
      "source": [
        "new_width = 602\n",
        "new_height = 280\n",
        "\n",
        "# Сжимаем изображение до нового размера\n",
        "resized_image = cv2.resize(new_res, (new_width, new_height))"
      ],
      "metadata": {
        "id": "SdDhX8rs7HaX"
      },
      "execution_count": null,
      "outputs": []
    },
    {
      "cell_type": "code",
      "source": [
        "# получаем итоговое изображение с поправкой на соотношение сторон 6.02 и 2.8 метра\n",
        "cv2.imwrite(\"/content/1_wall_final.jpg\", resized_image)"
      ],
      "metadata": {
        "colab": {
          "base_uri": "https://localhost:8080/"
        },
        "id": "xc8ribxECefy",
        "outputId": "0c932fcf-aa87-4505-baf0-d7a124911722"
      },
      "execution_count": null,
      "outputs": [
        {
          "output_type": "execute_result",
          "data": {
            "text/plain": [
              "True"
            ]
          },
          "metadata": {},
          "execution_count": 77
        }
      ]
    },
    {
      "cell_type": "markdown",
      "source": [
        "# undistort. Отложена из-за чрезмерного времени на реалзиацию в условиях неидеально, но работающего warpPerspective"
      ],
      "metadata": {
        "id": "Poioamuz20st"
      }
    },
    {
      "cell_type": "code",
      "source": [
        "panorama_image_path = \"/content/image_1024_aligned_rgb.png\"\n",
        "new_pan = cv2.imread(panorama_image_path, cv2.IMREAD_COLOR)\n",
        "x1 = vertical_corners[0][0]\n",
        "x2 = vertical_corners[2][0]\n",
        "first_point = []\n",
        "mask = np.zeros_like(new_pan)\n",
        "y1_max = 512\n",
        "y2_max = 0\n",
        "for i in range(x1, x2 + 1):\n",
        "    mask[horizontal_corners[0][i]: horizontal_corners[1][i], i] = 1\n",
        "    y1_max = min(y1_max, horizontal_corners[0][i])\n",
        "    y2_max = max(y2_max, horizontal_corners[1][i])\n",
        "\n",
        "# Примените маску к панораме\n",
        "#result = new_pan * mask\n",
        "#result = result[y1_max:y2_max, x1:x2]\n",
        "result = new_pan[y1_max:y2_max, x1:x2]\n",
        "    # Сохраните результат\n",
        "cv2.imwrite(\"/content/1_wall_und.jpg\", result)"
      ],
      "metadata": {
        "id": "bOj9fseR27DU",
        "colab": {
          "base_uri": "https://localhost:8080/"
        },
        "outputId": "967bf7f8-945e-4388-fa67-214ac3fab22e"
      },
      "execution_count": null,
      "outputs": [
        {
          "output_type": "execute_result",
          "data": {
            "text/plain": [
              "True"
            ]
          },
          "metadata": {},
          "execution_count": 78
        }
      ]
    },
    {
      "cell_type": "code",
      "source": [
        "x1 = vertical_corners[0][0]\n",
        "x2 = vertical_corners[2][0]\n",
        "shape1 = x2 - x1 + 1\n",
        "\n",
        "shape2 = 3\n",
        "src = np.zeros((shape1 * shape2, 2))\n",
        "for i in range(shape1):\n",
        "    ind = i * shape2\n",
        "    src[ind    ][0] = i\n",
        "    src[ind + 1][0] = src[ind][0]\n",
        "    src[ind + 2][0] = src[ind][0]\n",
        "    ind2 = int(src[ind][0] + x1)\n",
        "    src[ind    ][1] = horizontal_corners[0][ind2] - y1_max\n",
        "    src[ind + 1][1] = (horizontal_corners[1][ind2] + horizontal_corners[0][ind2]) / 2 - y1_max\n",
        "    src[ind + 2][1] = horizontal_corners[1][ind2] - y1_max\n",
        "new_src = np.zeros((shape1 * shape2, 2))\n",
        "for i in range(shape1):\n",
        "    new_src[i] = src[3 * i]\n",
        "    new_src[i + shape1] = src[3 * i + 1]\n",
        "    new_src[i + shape1 * 2] = src[3 * i + 2]\n",
        "src = new_src\n",
        "src = [np.array(src, dtype=np.float32)]\n",
        "src[0]"
      ],
      "metadata": {
        "id": "MVJFzzPLqbIb",
        "colab": {
          "base_uri": "https://localhost:8080/"
        },
        "outputId": "338dbb13-b0d3-41e9-d0a9-02302bf7feec"
      },
      "execution_count": null,
      "outputs": [
        {
          "output_type": "execute_result",
          "data": {
            "text/plain": [
              "array([[  0.,  99.],\n",
              "       [  1.,  99.],\n",
              "       [  2.,  98.],\n",
              "       ...,\n",
              "       [330., 271.],\n",
              "       [331., 270.],\n",
              "       [332., 270.]], dtype=float32)"
            ]
          },
          "metadata": {},
          "execution_count": 79
        }
      ]
    },
    {
      "cell_type": "code",
      "source": [
        "dst_cols = np.linspace(0, shape1 - 1, shape1)\n",
        "dst_rows = np.linspace(0, y2_max - y1_max,  shape2)\n",
        "dst_rows, dst_cols = np.meshgrid(dst_rows, dst_cols)\n",
        "dst = np.dstack([dst_cols.flat, dst_rows.flat])[0]\n",
        "new_src = np.zeros((shape1 * shape2, 2))\n",
        "for i in range(shape1):\n",
        "    new_src[i] = dst[3 * i]\n",
        "    new_src[i + shape1] = dst[3 * i + 1]\n",
        "    new_src[i + shape1 * 2] = dst[3 * i + 2]\n",
        "dst = new_src\n",
        "dst = [np.array([list(x) + [0] for x in dst], dtype=np.float32)]\n",
        "dst[0]"
      ],
      "metadata": {
        "id": "-svBi_40vbu1",
        "colab": {
          "base_uri": "https://localhost:8080/"
        },
        "outputId": "720f5930-f1d8-4cb1-cf44-f706f9ee60de"
      },
      "execution_count": null,
      "outputs": [
        {
          "output_type": "execute_result",
          "data": {
            "text/plain": [
              "array([[  0.,   0.,   0.],\n",
              "       [  1.,   0.,   0.],\n",
              "       [  2.,   0.,   0.],\n",
              "       ...,\n",
              "       [330., 288.,   0.],\n",
              "       [331., 288.,   0.],\n",
              "       [332., 288.,   0.]], dtype=float32)"
            ]
          },
          "metadata": {},
          "execution_count": 80
        }
      ]
    },
    {
      "cell_type": "code",
      "source": [
        "width = shape1\n",
        "height = y2_max - y1_max"
      ],
      "metadata": {
        "id": "zVH9CLQ7zJAe"
      },
      "execution_count": null,
      "outputs": []
    },
    {
      "cell_type": "code",
      "source": [
        "ret, mtx, dist, rvecs, tvecs = cv2.calibrateCamera(dst, src, (width, height), None, None)\n",
        "\n",
        "undistorted_img = cv2.undistort(result, mtx, dist, None, mtx)"
      ],
      "metadata": {
        "id": "MNi3Wd-qxL5t"
      },
      "execution_count": null,
      "outputs": []
    },
    {
      "cell_type": "code",
      "source": [
        "cv2.imwrite(\"/content/11111.jpg\", undistorted_img)"
      ],
      "metadata": {
        "id": "kBFHI7juz-E4",
        "colab": {
          "base_uri": "https://localhost:8080/"
        },
        "outputId": "1a5c04f8-c944-466f-d270-91d5a666cb16"
      },
      "execution_count": null,
      "outputs": [
        {
          "output_type": "execute_result",
          "data": {
            "text/plain": [
              "True"
            ]
          },
          "metadata": {},
          "execution_count": 83
        }
      ]
    },
    {
      "cell_type": "code",
      "source": [],
      "metadata": {
        "id": "Z-WpLRTk2Hqc"
      },
      "execution_count": null,
      "outputs": []
    },
    {
      "cell_type": "code",
      "source": [],
      "metadata": {
        "id": "UMsOpYZTJ-00"
      },
      "execution_count": null,
      "outputs": []
    },
    {
      "cell_type": "markdown",
      "source": [
        "# 2 undistort. Попытка добавить больше точек"
      ],
      "metadata": {
        "id": "9QE9XJ1pKFC1"
      }
    },
    {
      "cell_type": "code",
      "source": [
        "shape1 = 1024\n",
        "shape2 = 3\n",
        "\n",
        "src = np.zeros((shape1 * shape2, 2))\n",
        "for i in range(shape1):\n",
        "    ind = i * shape2\n",
        "    src[ind    ][0] = i\n",
        "    src[ind + 1][0] = src[ind][0]\n",
        "    src[ind + 2][0] = src[ind][0]\n",
        "    ind2 = i\n",
        "    src[ind    ][1] = horizontal_corners[0][ind2] - y1_max\n",
        "    src[ind + 1][1] = (horizontal_corners[1][ind2] + horizontal_corners[0][ind2]) / 2 - y1_max\n",
        "    src[ind + 2][1] = horizontal_corners[1][ind2] - y1_max\n",
        "new_src = np.zeros((shape1 * shape2, 2))\n",
        "for i in range(shape1):\n",
        "    new_src[i] = src[3 * i]\n",
        "    new_src[i + shape1] = src[3 * i + 1]\n",
        "    new_src[i + shape1 * 2] = src[3 * i + 2]\n",
        "src = new_src\n",
        "src = [np.array(src, dtype=np.float32)]"
      ],
      "metadata": {
        "id": "xSgT_sd2KGbv"
      },
      "execution_count": null,
      "outputs": []
    },
    {
      "cell_type": "code",
      "source": [
        "dst_cols = np.linspace(0, shape1 - 1, shape1)\n",
        "dst_rows = np.linspace(0, 511,  shape2)\n",
        "dst_rows, dst_cols = np.meshgrid(dst_rows, dst_cols)\n",
        "dst = np.dstack([dst_cols.flat, dst_rows.flat])[0]\n",
        "new_src = np.zeros((shape1 * shape2, 2))\n",
        "for i in range(shape1):\n",
        "    new_src[i] = dst[3 * i]\n",
        "    new_src[i + shape1] = dst[3 * i + 1]\n",
        "    new_src[i + shape1 * 2] = dst[3 * i + 2]\n",
        "dst = new_src\n",
        "dst = [np.array([list(x) + [0] for x in dst], dtype=np.float32)]\n",
        "dst[0].shape"
      ],
      "metadata": {
        "id": "4qGyI-xkKRe1",
        "colab": {
          "base_uri": "https://localhost:8080/"
        },
        "outputId": "7377f784-7535-4137-f968-adc763d03b44"
      },
      "execution_count": null,
      "outputs": [
        {
          "output_type": "execute_result",
          "data": {
            "text/plain": [
              "(3072, 3)"
            ]
          },
          "metadata": {},
          "execution_count": 85
        }
      ]
    },
    {
      "cell_type": "code",
      "source": [
        "width = 1024\n",
        "height = 512"
      ],
      "metadata": {
        "id": "6sZVroAHKmm-"
      },
      "execution_count": null,
      "outputs": []
    },
    {
      "cell_type": "code",
      "source": [
        "ret, mtx, dist, rvecs, tvecs = cv2.calibrateCamera(dst, src, (width, height), None, None)\n",
        "\n",
        "undistorted_img = cv2.undistort(panorama_image, mtx, dist, None, mtx)"
      ],
      "metadata": {
        "id": "Jq_txfZ7KsQy"
      },
      "execution_count": null,
      "outputs": []
    },
    {
      "cell_type": "code",
      "source": [
        "cv2.imwrite(\"/content/22222.jpg\", undistorted_img)"
      ],
      "metadata": {
        "id": "1zTqHfN7KvQp",
        "colab": {
          "base_uri": "https://localhost:8080/"
        },
        "outputId": "2613a149-845d-4277-d8cc-729b42a8cb47"
      },
      "execution_count": null,
      "outputs": [
        {
          "output_type": "execute_result",
          "data": {
            "text/plain": [
              "True"
            ]
          },
          "metadata": {},
          "execution_count": 88
        }
      ]
    },
    {
      "cell_type": "code",
      "source": [],
      "metadata": {
        "id": "psQaMrM2Kvnh"
      },
      "execution_count": null,
      "outputs": []
    },
    {
      "cell_type": "code",
      "source": [],
      "metadata": {
        "id": "xk3x-4V6LyLz"
      },
      "execution_count": null,
      "outputs": []
    },
    {
      "cell_type": "code",
      "source": [],
      "metadata": {
        "id": "3QtiCTMRN1UQ"
      },
      "execution_count": null,
      "outputs": []
    },
    {
      "cell_type": "code",
      "source": [],
      "metadata": {
        "id": "dtgqLkiEN3KA"
      },
      "execution_count": null,
      "outputs": []
    },
    {
      "cell_type": "code",
      "source": [],
      "metadata": {
        "id": "0gE1_1XiRYY7"
      },
      "execution_count": null,
      "outputs": []
    },
    {
      "cell_type": "code",
      "source": [],
      "metadata": {
        "id": "21QMfEIcReU-"
      },
      "execution_count": null,
      "outputs": []
    }
  ]
}